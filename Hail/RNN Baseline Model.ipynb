{
 "cells": [
  {
   "cell_type": "markdown",
   "id": "c5d4d435",
   "metadata": {},
   "source": [
    "# RNN을 활용한 BaselineModel"
   ]
  },
  {
   "cell_type": "code",
   "execution_count": 1,
   "id": "f4ee91e5",
   "metadata": {},
   "outputs": [
    {
     "name": "stdout",
     "output_type": "stream",
     "text": [
      "Wed Jun 26 06:00:19 2024       \r\n",
      "+-----------------------------------------------------------------------------+\r\n",
      "| NVIDIA-SMI 470.239.06   Driver Version: 470.239.06   CUDA Version: 11.4     |\r\n",
      "|-------------------------------+----------------------+----------------------+\r\n",
      "| GPU  Name        Persistence-M| Bus-Id        Disp.A | Volatile Uncorr. ECC |\r\n",
      "| Fan  Temp  Perf  Pwr:Usage/Cap|         Memory-Usage | GPU-Util  Compute M. |\r\n",
      "|                               |                      |               MIG M. |\r\n",
      "|===============================+======================+======================|\r\n",
      "|   0  Tesla T4            Off  | 00000000:00:04.0 Off |                    0 |\r\n",
      "| N/A   44C    P8     9W /  70W |      0MiB / 15109MiB |      0%      Default |\r\n",
      "|                               |                      |                  N/A |\r\n",
      "+-------------------------------+----------------------+----------------------+\r\n",
      "                                                                               \r\n",
      "+-----------------------------------------------------------------------------+\r\n",
      "| Processes:                                                                  |\r\n",
      "|  GPU   GI   CI        PID   Type   Process name                  GPU Memory |\r\n",
      "|        ID   ID                                                   Usage      |\r\n",
      "|=============================================================================|\r\n",
      "|  No running processes found                                                 |\r\n",
      "+-----------------------------------------------------------------------------+\r\n"
     ]
    }
   ],
   "source": [
    "# GPU로 Tesla T4가 준비돼있습니다.\n",
    "!nvidia-smi"
   ]
  },
  {
   "cell_type": "code",
   "execution_count": 2,
   "id": "9fc95bdb",
   "metadata": {},
   "outputs": [],
   "source": [
    "import pandas as pd\n",
    "import tensorflow as tf\n",
    "from tensorflow import keras\n",
    "from sklearn.model_selection import train_test_split\n",
    "from sklearn.preprocessing import LabelEncoder\n",
    "import json"
   ]
  },
  {
   "cell_type": "markdown",
   "id": "322ba074",
   "metadata": {},
   "source": [
    "## 1. 데이터 가져오기"
   ]
  },
  {
   "cell_type": "code",
   "execution_count": 3,
   "id": "1ad0a667",
   "metadata": {
    "scrolled": false
   },
   "outputs": [
    {
     "data": {
      "text/html": [
       "<div>\n",
       "<style scoped>\n",
       "    .dataframe tbody tr th:only-of-type {\n",
       "        vertical-align: middle;\n",
       "    }\n",
       "\n",
       "    .dataframe tbody tr th {\n",
       "        vertical-align: top;\n",
       "    }\n",
       "\n",
       "    .dataframe thead th {\n",
       "        text-align: right;\n",
       "    }\n",
       "</style>\n",
       "<table border=\"1\" class=\"dataframe\">\n",
       "  <thead>\n",
       "    <tr style=\"text-align: right;\">\n",
       "      <th></th>\n",
       "      <th>idx</th>\n",
       "      <th>class</th>\n",
       "      <th>conversation</th>\n",
       "    </tr>\n",
       "  </thead>\n",
       "  <tbody>\n",
       "    <tr>\n",
       "      <th>0</th>\n",
       "      <td>0</td>\n",
       "      <td>협박 대화</td>\n",
       "      <td>지금 너 스스로를 죽여달라고 애원하는 것인가?\\n 아닙니다. 죄송합니다.\\n 죽을 ...</td>\n",
       "    </tr>\n",
       "    <tr>\n",
       "      <th>1</th>\n",
       "      <td>1</td>\n",
       "      <td>협박 대화</td>\n",
       "      <td>길동경찰서입니다.\\n9시 40분 마트에 폭발물을 설치할거다.\\n네?\\n똑바로 들어 ...</td>\n",
       "    </tr>\n",
       "    <tr>\n",
       "      <th>2</th>\n",
       "      <td>2</td>\n",
       "      <td>기타 괴롭힘 대화</td>\n",
       "      <td>너 되게 귀여운거 알지? 나보다 작은 남자는 첨봤어.\\n그만해. 니들 놀리는거 재미...</td>\n",
       "    </tr>\n",
       "    <tr>\n",
       "      <th>3</th>\n",
       "      <td>3</td>\n",
       "      <td>갈취 대화</td>\n",
       "      <td>어이 거기\\n예??\\n너 말이야 너. 이리 오라고\\n무슨 일.\\n너 옷 좋아보인다?...</td>\n",
       "    </tr>\n",
       "    <tr>\n",
       "      <th>4</th>\n",
       "      <td>4</td>\n",
       "      <td>갈취 대화</td>\n",
       "      <td>저기요 혹시 날이 너무 뜨겁잖아요? 저희 회사에서 이 선크림 파는데 한 번 손등에 ...</td>\n",
       "    </tr>\n",
       "  </tbody>\n",
       "</table>\n",
       "</div>"
      ],
      "text/plain": [
       "   idx      class                                       conversation\n",
       "0    0      협박 대화  지금 너 스스로를 죽여달라고 애원하는 것인가?\\n 아닙니다. 죄송합니다.\\n 죽을 ...\n",
       "1    1      협박 대화  길동경찰서입니다.\\n9시 40분 마트에 폭발물을 설치할거다.\\n네?\\n똑바로 들어 ...\n",
       "2    2  기타 괴롭힘 대화  너 되게 귀여운거 알지? 나보다 작은 남자는 첨봤어.\\n그만해. 니들 놀리는거 재미...\n",
       "3    3      갈취 대화  어이 거기\\n예??\\n너 말이야 너. 이리 오라고\\n무슨 일.\\n너 옷 좋아보인다?...\n",
       "4    4      갈취 대화  저기요 혹시 날이 너무 뜨겁잖아요? 저희 회사에서 이 선크림 파는데 한 번 손등에 ..."
      ]
     },
     "execution_count": 3,
     "metadata": {},
     "output_type": "execute_result"
    }
   ],
   "source": [
    "train_data_path =\"~/aiffel/dktc/data/train.csv\"\n",
    "data = pd.read_csv(train_data_path)\n",
    "data.head()"
   ]
  },
  {
   "cell_type": "code",
   "execution_count": 4,
   "id": "0f2e6897",
   "metadata": {
    "scrolled": true
   },
   "outputs": [
    {
     "data": {
      "text/plain": [
       "(3950, 3)"
      ]
     },
     "execution_count": 4,
     "metadata": {},
     "output_type": "execute_result"
    }
   ],
   "source": [
    "data.shape"
   ]
  },
  {
   "cell_type": "markdown",
   "id": "3b9daae1",
   "metadata": {},
   "source": [
    "## 2. 데이터 전처리"
   ]
  },
  {
   "cell_type": "markdown",
   "id": "d4a341f3",
   "metadata": {},
   "source": [
    "### 2-1)결측치, 중복데이터 확인"
   ]
  },
  {
   "cell_type": "code",
   "execution_count": 5,
   "id": "964d5ab5",
   "metadata": {
    "scrolled": true
   },
   "outputs": [
    {
     "name": "stdout",
     "output_type": "stream",
     "text": [
      "idx             0\n",
      "class           0\n",
      "conversation    0\n",
      "dtype: int64\n"
     ]
    }
   ],
   "source": [
    "print(data.isna().sum())"
   ]
  },
  {
   "cell_type": "code",
   "execution_count": 6,
   "id": "af59cc97",
   "metadata": {
    "scrolled": true
   },
   "outputs": [
    {
     "data": {
      "text/html": [
       "<div>\n",
       "<style scoped>\n",
       "    .dataframe tbody tr th:only-of-type {\n",
       "        vertical-align: middle;\n",
       "    }\n",
       "\n",
       "    .dataframe tbody tr th {\n",
       "        vertical-align: top;\n",
       "    }\n",
       "\n",
       "    .dataframe thead th {\n",
       "        text-align: right;\n",
       "    }\n",
       "</style>\n",
       "<table border=\"1\" class=\"dataframe\">\n",
       "  <thead>\n",
       "    <tr style=\"text-align: right;\">\n",
       "      <th></th>\n",
       "      <th>idx</th>\n",
       "      <th>class</th>\n",
       "      <th>conversation</th>\n",
       "      <th>duplicates</th>\n",
       "    </tr>\n",
       "  </thead>\n",
       "  <tbody>\n",
       "    <tr>\n",
       "      <th>392</th>\n",
       "      <td>392</td>\n",
       "      <td>기타 괴롭힘 대화</td>\n",
       "      <td>병신이 아이스크림 먹게 돼 있냐?\\n난 먹으면 안 돼? 그만 좀 해.\\n당연히 안 ...</td>\n",
       "      <td>True</td>\n",
       "    </tr>\n",
       "    <tr>\n",
       "      <th>523</th>\n",
       "      <td>523</td>\n",
       "      <td>직장 내 괴롭힘 대화</td>\n",
       "      <td>과장님. 저 이번에 휴가 좀 갔다와도 되겠습니까.?\\n휴가? 왜??\\n좀 쉬다가 오...</td>\n",
       "      <td>True</td>\n",
       "    </tr>\n",
       "    <tr>\n",
       "      <th>789</th>\n",
       "      <td>789</td>\n",
       "      <td>기타 괴롭힘 대화</td>\n",
       "      <td>야 얘 이 쪽 손가락 세 개밖에 없다\\n엥 손가락이 세개밖에 없을 수가 있어?\\n봐...</td>\n",
       "      <td>True</td>\n",
       "    </tr>\n",
       "    <tr>\n",
       "      <th>824</th>\n",
       "      <td>824</td>\n",
       "      <td>기타 괴롭힘 대화</td>\n",
       "      <td>이야 내동생 여자친구한테 편지쓰네?\\n 아 형 돌려줘.\\n 어디보자. 사랑하는 여친...</td>\n",
       "      <td>True</td>\n",
       "    </tr>\n",
       "    <tr>\n",
       "      <th>869</th>\n",
       "      <td>869</td>\n",
       "      <td>직장 내 괴롭힘 대화</td>\n",
       "      <td>지현씨 나 소개팅 좀 시켜줘봐\\n네? 저 주변에 아는 사람이 없어서요\\n아 상사라 ...</td>\n",
       "      <td>True</td>\n",
       "    </tr>\n",
       "    <tr>\n",
       "      <th>...</th>\n",
       "      <td>...</td>\n",
       "      <td>...</td>\n",
       "      <td>...</td>\n",
       "      <td>...</td>\n",
       "    </tr>\n",
       "    <tr>\n",
       "      <th>3797</th>\n",
       "      <td>3797</td>\n",
       "      <td>기타 괴롭힘 대화</td>\n",
       "      <td>너 이번 방학 때 쌍꺼풀 수술 하고왔지?\\n아닌데?\\n아니긴 뭐가 아니야. 눈이 이...</td>\n",
       "      <td>True</td>\n",
       "    </tr>\n",
       "    <tr>\n",
       "      <th>3798</th>\n",
       "      <td>3798</td>\n",
       "      <td>기타 괴롭힘 대화</td>\n",
       "      <td>안녕하세요 지금 먹방 촬영중인데 촬영가능할까요?\\n안돼요\\n한번만 안될까요?\\n안돼...</td>\n",
       "      <td>True</td>\n",
       "    </tr>\n",
       "    <tr>\n",
       "      <th>3855</th>\n",
       "      <td>3855</td>\n",
       "      <td>기타 괴롭힘 대화</td>\n",
       "      <td>그 소문 진짜야? 너가 다른 애들 뒷담화하고 다녔다며?\\n응? 나 그런 적 없는데?...</td>\n",
       "      <td>True</td>\n",
       "    </tr>\n",
       "    <tr>\n",
       "      <th>3874</th>\n",
       "      <td>3874</td>\n",
       "      <td>기타 괴롭힘 대화</td>\n",
       "      <td>야 니 왤캐 못생겼냐?\\n뭐라그랬냐?\\n으 나 보고 말하지마 니 얼굴보면 토나올거 ...</td>\n",
       "      <td>True</td>\n",
       "    </tr>\n",
       "    <tr>\n",
       "      <th>3928</th>\n",
       "      <td>3928</td>\n",
       "      <td>기타 괴롭힘 대화</td>\n",
       "      <td>새파랗게 젊은게 어디 여길 앉아있어\\n저 임산부에요\\n사지 멀쩡한게! 임신이 벼슬이...</td>\n",
       "      <td>True</td>\n",
       "    </tr>\n",
       "  </tbody>\n",
       "</table>\n",
       "<p>104 rows × 4 columns</p>\n",
       "</div>"
      ],
      "text/plain": [
       "       idx        class                                       conversation  \\\n",
       "392    392    기타 괴롭힘 대화  병신이 아이스크림 먹게 돼 있냐?\\n난 먹으면 안 돼? 그만 좀 해.\\n당연히 안 ...   \n",
       "523    523  직장 내 괴롭힘 대화  과장님. 저 이번에 휴가 좀 갔다와도 되겠습니까.?\\n휴가? 왜??\\n좀 쉬다가 오...   \n",
       "789    789    기타 괴롭힘 대화  야 얘 이 쪽 손가락 세 개밖에 없다\\n엥 손가락이 세개밖에 없을 수가 있어?\\n봐...   \n",
       "824    824    기타 괴롭힘 대화  이야 내동생 여자친구한테 편지쓰네?\\n 아 형 돌려줘.\\n 어디보자. 사랑하는 여친...   \n",
       "869    869  직장 내 괴롭힘 대화  지현씨 나 소개팅 좀 시켜줘봐\\n네? 저 주변에 아는 사람이 없어서요\\n아 상사라 ...   \n",
       "...    ...          ...                                                ...   \n",
       "3797  3797    기타 괴롭힘 대화  너 이번 방학 때 쌍꺼풀 수술 하고왔지?\\n아닌데?\\n아니긴 뭐가 아니야. 눈이 이...   \n",
       "3798  3798    기타 괴롭힘 대화  안녕하세요 지금 먹방 촬영중인데 촬영가능할까요?\\n안돼요\\n한번만 안될까요?\\n안돼...   \n",
       "3855  3855    기타 괴롭힘 대화  그 소문 진짜야? 너가 다른 애들 뒷담화하고 다녔다며?\\n응? 나 그런 적 없는데?...   \n",
       "3874  3874    기타 괴롭힘 대화  야 니 왤캐 못생겼냐?\\n뭐라그랬냐?\\n으 나 보고 말하지마 니 얼굴보면 토나올거 ...   \n",
       "3928  3928    기타 괴롭힘 대화  새파랗게 젊은게 어디 여길 앉아있어\\n저 임산부에요\\n사지 멀쩡한게! 임신이 벼슬이...   \n",
       "\n",
       "      duplicates  \n",
       "392         True  \n",
       "523         True  \n",
       "789         True  \n",
       "824         True  \n",
       "869         True  \n",
       "...          ...  \n",
       "3797        True  \n",
       "3798        True  \n",
       "3855        True  \n",
       "3874        True  \n",
       "3928        True  \n",
       "\n",
       "[104 rows x 4 columns]"
      ]
     },
     "execution_count": 6,
     "metadata": {},
     "output_type": "execute_result"
    }
   ],
   "source": [
    "#중복인 행 확인\n",
    "data['duplicates'] = data.duplicated(['conversation'])\n",
    "data[data['duplicates'] == True]"
   ]
  },
  {
   "cell_type": "code",
   "execution_count": 7,
   "id": "bd7cdb5b",
   "metadata": {},
   "outputs": [],
   "source": [
    "#중복제거\n",
    "data = data.drop_duplicates(['conversation'])"
   ]
  },
  {
   "cell_type": "code",
   "execution_count": 8,
   "id": "59337b85",
   "metadata": {
    "scrolled": true
   },
   "outputs": [
    {
     "data": {
      "text/html": [
       "<div>\n",
       "<style scoped>\n",
       "    .dataframe tbody tr th:only-of-type {\n",
       "        vertical-align: middle;\n",
       "    }\n",
       "\n",
       "    .dataframe tbody tr th {\n",
       "        vertical-align: top;\n",
       "    }\n",
       "\n",
       "    .dataframe thead th {\n",
       "        text-align: right;\n",
       "    }\n",
       "</style>\n",
       "<table border=\"1\" class=\"dataframe\">\n",
       "  <thead>\n",
       "    <tr style=\"text-align: right;\">\n",
       "      <th></th>\n",
       "      <th>conversation</th>\n",
       "      <th>class</th>\n",
       "    </tr>\n",
       "  </thead>\n",
       "  <tbody>\n",
       "    <tr>\n",
       "      <th>0</th>\n",
       "      <td>지금 너 스스로를 죽여달라고 애원하는 것인가?\\n 아닙니다. 죄송합니다.\\n 죽을 ...</td>\n",
       "      <td>협박 대화</td>\n",
       "    </tr>\n",
       "    <tr>\n",
       "      <th>1</th>\n",
       "      <td>길동경찰서입니다.\\n9시 40분 마트에 폭발물을 설치할거다.\\n네?\\n똑바로 들어 ...</td>\n",
       "      <td>협박 대화</td>\n",
       "    </tr>\n",
       "    <tr>\n",
       "      <th>2</th>\n",
       "      <td>너 되게 귀여운거 알지? 나보다 작은 남자는 첨봤어.\\n그만해. 니들 놀리는거 재미...</td>\n",
       "      <td>기타 괴롭힘 대화</td>\n",
       "    </tr>\n",
       "    <tr>\n",
       "      <th>3</th>\n",
       "      <td>어이 거기\\n예??\\n너 말이야 너. 이리 오라고\\n무슨 일.\\n너 옷 좋아보인다?...</td>\n",
       "      <td>갈취 대화</td>\n",
       "    </tr>\n",
       "    <tr>\n",
       "      <th>4</th>\n",
       "      <td>저기요 혹시 날이 너무 뜨겁잖아요? 저희 회사에서 이 선크림 파는데 한 번 손등에 ...</td>\n",
       "      <td>갈취 대화</td>\n",
       "    </tr>\n",
       "  </tbody>\n",
       "</table>\n",
       "</div>"
      ],
      "text/plain": [
       "                                        conversation      class\n",
       "0  지금 너 스스로를 죽여달라고 애원하는 것인가?\\n 아닙니다. 죄송합니다.\\n 죽을 ...      협박 대화\n",
       "1  길동경찰서입니다.\\n9시 40분 마트에 폭발물을 설치할거다.\\n네?\\n똑바로 들어 ...      협박 대화\n",
       "2  너 되게 귀여운거 알지? 나보다 작은 남자는 첨봤어.\\n그만해. 니들 놀리는거 재미...  기타 괴롭힘 대화\n",
       "3  어이 거기\\n예??\\n너 말이야 너. 이리 오라고\\n무슨 일.\\n너 옷 좋아보인다?...      갈취 대화\n",
       "4  저기요 혹시 날이 너무 뜨겁잖아요? 저희 회사에서 이 선크림 파는데 한 번 손등에 ...      갈취 대화"
      ]
     },
     "execution_count": 8,
     "metadata": {},
     "output_type": "execute_result"
    }
   ],
   "source": [
    "#conversation과 class만 남김\n",
    "data = data[['conversation','class']]\n",
    "data.head()"
   ]
  },
  {
   "cell_type": "code",
   "execution_count": 9,
   "id": "a435fdb2",
   "metadata": {},
   "outputs": [
    {
     "data": {
      "text/plain": [
       "(3846, 2)"
      ]
     },
     "execution_count": 9,
     "metadata": {},
     "output_type": "execute_result"
    }
   ],
   "source": [
    "data.shape"
   ]
  },
  {
   "cell_type": "markdown",
   "id": "b46fb4d7",
   "metadata": {},
   "source": [
    "### 2-2)레이블인코딩"
   ]
  },
  {
   "cell_type": "code",
   "execution_count": 10,
   "id": "db7899b2",
   "metadata": {
    "scrolled": true
   },
   "outputs": [
    {
     "data": {
      "text/html": [
       "<div>\n",
       "<style scoped>\n",
       "    .dataframe tbody tr th:only-of-type {\n",
       "        vertical-align: middle;\n",
       "    }\n",
       "\n",
       "    .dataframe tbody tr th {\n",
       "        vertical-align: top;\n",
       "    }\n",
       "\n",
       "    .dataframe thead th {\n",
       "        text-align: right;\n",
       "    }\n",
       "</style>\n",
       "<table border=\"1\" class=\"dataframe\">\n",
       "  <thead>\n",
       "    <tr style=\"text-align: right;\">\n",
       "      <th></th>\n",
       "      <th>conversation</th>\n",
       "      <th>class</th>\n",
       "    </tr>\n",
       "  </thead>\n",
       "  <tbody>\n",
       "    <tr>\n",
       "      <th>0</th>\n",
       "      <td>지금 너 스스로를 죽여달라고 애원하는 것인가?\\n 아닙니다. 죄송합니다.\\n 죽을 ...</td>\n",
       "      <td>3</td>\n",
       "    </tr>\n",
       "    <tr>\n",
       "      <th>1</th>\n",
       "      <td>길동경찰서입니다.\\n9시 40분 마트에 폭발물을 설치할거다.\\n네?\\n똑바로 들어 ...</td>\n",
       "      <td>3</td>\n",
       "    </tr>\n",
       "    <tr>\n",
       "      <th>2</th>\n",
       "      <td>너 되게 귀여운거 알지? 나보다 작은 남자는 첨봤어.\\n그만해. 니들 놀리는거 재미...</td>\n",
       "      <td>1</td>\n",
       "    </tr>\n",
       "    <tr>\n",
       "      <th>3</th>\n",
       "      <td>어이 거기\\n예??\\n너 말이야 너. 이리 오라고\\n무슨 일.\\n너 옷 좋아보인다?...</td>\n",
       "      <td>0</td>\n",
       "    </tr>\n",
       "    <tr>\n",
       "      <th>4</th>\n",
       "      <td>저기요 혹시 날이 너무 뜨겁잖아요? 저희 회사에서 이 선크림 파는데 한 번 손등에 ...</td>\n",
       "      <td>0</td>\n",
       "    </tr>\n",
       "  </tbody>\n",
       "</table>\n",
       "</div>"
      ],
      "text/plain": [
       "                                        conversation  class\n",
       "0  지금 너 스스로를 죽여달라고 애원하는 것인가?\\n 아닙니다. 죄송합니다.\\n 죽을 ...      3\n",
       "1  길동경찰서입니다.\\n9시 40분 마트에 폭발물을 설치할거다.\\n네?\\n똑바로 들어 ...      3\n",
       "2  너 되게 귀여운거 알지? 나보다 작은 남자는 첨봤어.\\n그만해. 니들 놀리는거 재미...      1\n",
       "3  어이 거기\\n예??\\n너 말이야 너. 이리 오라고\\n무슨 일.\\n너 옷 좋아보인다?...      0\n",
       "4  저기요 혹시 날이 너무 뜨겁잖아요? 저희 회사에서 이 선크림 파는데 한 번 손등에 ...      0"
      ]
     },
     "execution_count": 10,
     "metadata": {},
     "output_type": "execute_result"
    }
   ],
   "source": [
    "CLASS_NAMES = ['협박 대화', '갈취 대화', '직장 내 괴롭힘 대화', '기타 괴롭힘 대화']\n",
    "\n",
    "encoder = LabelEncoder()\n",
    "encoder.fit(CLASS_NAMES)\n",
    "\n",
    "data['class'] = encoder.transform(data['class'])\n",
    "\n",
    "corpus = data[\"conversation\"]\n",
    "data.head()"
   ]
  },
  {
   "cell_type": "markdown",
   "id": "ce43627e",
   "metadata": {},
   "source": [
    "### 2-3)토크나이저 및 단어사전 생성"
   ]
  },
  {
   "cell_type": "code",
   "execution_count": 11,
   "id": "51b0d4a8",
   "metadata": {},
   "outputs": [
    {
     "name": "stdout",
     "output_type": "stream",
     "text": [
      "[[  1 210   1 ...   1  42   1]\n",
      " [  1   1   1 ...   1   1 401]\n",
      " [  1  97   1 ...   1 136   1]\n",
      " ...\n",
      " [495   3 110 ...  27   1   1]\n",
      " [  1   1 151 ... 348   1   1]\n",
      " [  1   1   1 ... 159 113   1]] <keras_preprocessing.text.Tokenizer object at 0x7963dc1ef1f0>\n"
     ]
    }
   ],
   "source": [
    "def tokenize(corpus):\n",
    "    #토크나이저 객체생성\n",
    "    tokenizer = tf.keras.preprocessing.text.Tokenizer(\n",
    "        num_words=1000, \n",
    "        filters=' ',\n",
    "        oov_token=\"<unk>\")\n",
    "    \n",
    "    tokenizer.fit_on_texts(corpus) #corpus 기준으로 단어 사전 생성\n",
    "    tensor = tokenizer.texts_to_sequences(corpus) #정수시퀀스\n",
    "    \n",
    "    #시퀀스패딩\n",
    "    tensor = tf.keras.preprocessing.sequence.pad_sequences(tensor, \n",
    "                                                           padding='post',\n",
    "                                                           maxlen=20) #최대길이\n",
    "    print(tensor,tokenizer)\n",
    "    return tensor, tokenizer\n",
    "\n",
    "#데이터셋에서 토큰화 및 패딩작업 결과를 저장\n",
    "tensor, tokenizer = tokenize(corpus)"
   ]
  },
  {
   "cell_type": "markdown",
   "id": "cb1d515c",
   "metadata": {},
   "source": [
    "### 2-4)데이터 분할"
   ]
  },
  {
   "cell_type": "code",
   "execution_count": 12,
   "id": "28efe507",
   "metadata": {},
   "outputs": [],
   "source": [
    "X_train = tensor[:3300]\n",
    "y_train = data['class'][:3300]\n",
    "X_val = tensor[3300:3550]\n",
    "y_val = data['class'][3300:3550]\n",
    "X_test = tensor[3750:]\n",
    "y_test = data['class'][3750:]"
   ]
  },
  {
   "cell_type": "markdown",
   "id": "38aa880e",
   "metadata": {},
   "source": [
    "# 3. 모델생성 및 훈련\n",
    "\n",
    "- baseline 모델은 바닐라 RNN 모델로 설정\n",
    "- LSTM, GRU, 1D COV 등 모델 및 pretrained bert 등을 활용예정"
   ]
  },
  {
   "cell_type": "markdown",
   "id": "2bca5e66",
   "metadata": {},
   "source": [
    "## 3-1) 모델 구성"
   ]
  },
  {
   "cell_type": "code",
   "execution_count": 13,
   "id": "5ed841ea",
   "metadata": {
    "scrolled": false
   },
   "outputs": [
    {
     "name": "stdout",
     "output_type": "stream",
     "text": [
      "Model: \"sequential\"\n",
      "_________________________________________________________________\n",
      "Layer (type)                 Output Shape              Param #   \n",
      "=================================================================\n",
      "embedding (Embedding)        (None, None, 20)          20000     \n",
      "_________________________________________________________________\n",
      "simple_rnn (SimpleRNN)       (None, 256)               70912     \n",
      "_________________________________________________________________\n",
      "dropout (Dropout)            (None, 256)               0         \n",
      "_________________________________________________________________\n",
      "dense (Dense)                (None, 128)               32896     \n",
      "_________________________________________________________________\n",
      "dense_1 (Dense)              (None, 4)                 516       \n",
      "=================================================================\n",
      "Total params: 124,324\n",
      "Trainable params: 124,324\n",
      "Non-trainable params: 0\n",
      "_________________________________________________________________\n"
     ]
    }
   ],
   "source": [
    "import tensorflow as tf\n",
    "from tensorflow.keras.models import Sequential\n",
    "from tensorflow.keras.layers import Embedding,SimpleRNN,Dropout, Dense\n",
    "\n",
    "\n",
    "vocab_size = 1000  # 어휘 사전의 크기\n",
    "word_vector_dim = 20  # 단어 하나를 표현하는 임베딩 벡터의 차원수\n",
    "\n",
    "model = Sequential()\n",
    "model.add(Embedding(vocab_size, word_vector_dim, input_length=None))\n",
    "model.add(SimpleRNN(256)) \n",
    "model.add(Dropout(0.2)) \n",
    "model.add(Dense(128, activation='relu'))\n",
    "model.add(Dense(4, activation='softmax'))  \n",
    "\n",
    "model.summary()"
   ]
  },
  {
   "cell_type": "code",
   "execution_count": 14,
   "id": "7f400645",
   "metadata": {},
   "outputs": [],
   "source": [
    "from sklearn.metrics import f1_score, precision_score, recall_score"
   ]
  },
  {
   "cell_type": "code",
   "execution_count": 15,
   "id": "35e1393d",
   "metadata": {},
   "outputs": [],
   "source": [
    "#모델 compile\n",
    "model.compile(optimizer='adam',\n",
    "              loss='sparse_categorical_crossentropy',\n",
    "              metrics=['accuracy'])"
   ]
  },
  {
   "cell_type": "code",
   "execution_count": 16,
   "id": "3ea0ebf0",
   "metadata": {},
   "outputs": [],
   "source": [
    "#콜백함수\n",
    "from tensorflow.keras.callbacks import EarlyStopping\n",
    "\n",
    "early_stopping = EarlyStopping(\n",
    "    monitor='val_loss',  # 검증 손실을 기준으로 조기 종료 여부 판단\n",
    "    patience=10,         # 검증 손실이 개선되지 않는 epoch를 5회까지 허용\n",
    "    restore_best_weights=True  # 가장 좋은 검증 손실을 낸 모델의 가중치 복원\n",
    ")"
   ]
  },
  {
   "cell_type": "markdown",
   "id": "e739e0f8",
   "metadata": {},
   "source": [
    "## 3-2) 모델 학습"
   ]
  },
  {
   "cell_type": "code",
   "execution_count": 17,
   "id": "f74093d8",
   "metadata": {
    "scrolled": true
   },
   "outputs": [
    {
     "name": "stdout",
     "output_type": "stream",
     "text": [
      "Epoch 1/100\n",
      "104/104 [==============================] - 15s 22ms/step - loss: 1.3929 - accuracy: 0.2655 - val_loss: 1.3979 - val_accuracy: 0.2320\n",
      "Epoch 2/100\n",
      "104/104 [==============================] - 2s 19ms/step - loss: 1.3702 - accuracy: 0.3376 - val_loss: 1.3728 - val_accuracy: 0.3160\n",
      "Epoch 3/100\n",
      "104/104 [==============================] - 2s 20ms/step - loss: 1.2819 - accuracy: 0.4030 - val_loss: 1.3515 - val_accuracy: 0.3280\n",
      "Epoch 4/100\n",
      "104/104 [==============================] - 2s 19ms/step - loss: 1.2318 - accuracy: 0.4448 - val_loss: 1.3507 - val_accuracy: 0.3520\n",
      "Epoch 5/100\n",
      "104/104 [==============================] - 2s 20ms/step - loss: 1.0137 - accuracy: 0.5758 - val_loss: 1.6732 - val_accuracy: 0.3920\n",
      "Epoch 6/100\n",
      "104/104 [==============================] - 2s 20ms/step - loss: 0.8792 - accuracy: 0.6397 - val_loss: 1.3502 - val_accuracy: 0.4200\n",
      "Epoch 7/100\n",
      "104/104 [==============================] - 2s 20ms/step - loss: 0.7371 - accuracy: 0.7088 - val_loss: 1.4454 - val_accuracy: 0.4560\n",
      "Epoch 8/100\n",
      "104/104 [==============================] - 2s 20ms/step - loss: 0.6878 - accuracy: 0.7400 - val_loss: 1.2762 - val_accuracy: 0.4320\n",
      "Epoch 9/100\n",
      "104/104 [==============================] - 2s 20ms/step - loss: 0.5886 - accuracy: 0.7797 - val_loss: 1.4592 - val_accuracy: 0.4240\n",
      "Epoch 10/100\n",
      "104/104 [==============================] - 2s 20ms/step - loss: 0.5845 - accuracy: 0.7776 - val_loss: 1.6447 - val_accuracy: 0.4320\n",
      "Epoch 11/100\n",
      "104/104 [==============================] - 2s 20ms/step - loss: 0.4781 - accuracy: 0.8200 - val_loss: 1.7177 - val_accuracy: 0.4400\n",
      "Epoch 12/100\n",
      "104/104 [==============================] - 2s 20ms/step - loss: 0.3719 - accuracy: 0.8633 - val_loss: 1.9600 - val_accuracy: 0.4400\n",
      "Epoch 13/100\n",
      "104/104 [==============================] - 2s 20ms/step - loss: 0.3170 - accuracy: 0.8867 - val_loss: 1.9358 - val_accuracy: 0.4480\n",
      "Epoch 14/100\n",
      "104/104 [==============================] - 2s 20ms/step - loss: 0.3129 - accuracy: 0.8891 - val_loss: 1.9561 - val_accuracy: 0.4320\n",
      "Epoch 15/100\n",
      "104/104 [==============================] - 2s 20ms/step - loss: 0.3195 - accuracy: 0.8821 - val_loss: 1.9683 - val_accuracy: 0.4160\n",
      "Epoch 16/100\n",
      "104/104 [==============================] - 2s 20ms/step - loss: 0.2695 - accuracy: 0.9006 - val_loss: 2.1943 - val_accuracy: 0.4480\n",
      "Epoch 17/100\n",
      "104/104 [==============================] - 2s 20ms/step - loss: 0.2004 - accuracy: 0.9276 - val_loss: 2.7519 - val_accuracy: 0.3720\n",
      "Epoch 18/100\n",
      "104/104 [==============================] - 2s 20ms/step - loss: 0.2801 - accuracy: 0.8973 - val_loss: 2.1824 - val_accuracy: 0.3760\n"
     ]
    }
   ],
   "source": [
    "history = model.fit(X_train, y_train, epochs=100, validation_data=(X_val, y_val), callbacks=[early_stopping])"
   ]
  },
  {
   "cell_type": "markdown",
   "id": "3a4198d8",
   "metadata": {},
   "source": [
    "## 3-3) 학습과정 시각화"
   ]
  },
  {
   "cell_type": "code",
   "execution_count": 18,
   "id": "32c06406",
   "metadata": {},
   "outputs": [
    {
     "data": {
      "image/png": "[encoded data removed]",
      "text/plain": [
       "<Figure size 432x288 with 1 Axes>"
      ]
     },
     "metadata": {
      "needs_background": "light"
     },
     "output_type": "display_data"
    }
   ],
   "source": [
    "import matplotlib.pyplot as plt\n",
    "\n",
    "acc = history.history['accuracy']\n",
    "val_acc = history.history['val_accuracy']\n",
    "loss = history.history['loss']\n",
    "val_loss = history.history['val_loss']\n",
    "epochs = range(1, len(acc) + 1)\n",
    "\n",
    "# \"bo\"는 \"파란색 점\"입니다\n",
    "plt.plot(epochs, loss, 'bo', label='Training loss')\n",
    "# b는 \"파란 실선\"입니다\n",
    "plt.plot(epochs, val_loss, 'b', label='Validation loss')\n",
    "plt.title('Training and validation loss')\n",
    "plt.xlabel('Epochs')\n",
    "plt.ylabel('Loss')\n",
    "plt.legend()\n",
    "\n",
    "plt.show()"
   ]
  },
  {
   "cell_type": "code",
   "execution_count": 19,
   "id": "5757a6b1",
   "metadata": {
    "scrolled": false
   },
   "outputs": [
    {
     "data": {
      "image/png": "[encoded data removed]",
      "text/plain": [
       "<Figure size 432x288 with 1 Axes>"
      ]
     },
     "metadata": {
      "needs_background": "light"
     },
     "output_type": "display_data"
    }
   ],
   "source": [
    "plt.plot(epochs, acc, 'bo', label='Training acc')\n",
    "plt.plot(epochs, val_acc, 'b', label='Validation acc')\n",
    "plt.title('Training and validation accuracy')\n",
    "plt.xlabel('Epochs')\n",
    "plt.ylabel('Accuracy')\n",
    "plt.legend()\n",
    "\n",
    "plt.show()"
   ]
  },
  {
   "cell_type": "markdown",
   "id": "d8f8a1e7",
   "metadata": {},
   "source": [
    "## 3-4) 성능 확인"
   ]
  },
  {
   "cell_type": "code",
   "execution_count": 20,
   "id": "39a9b78e",
   "metadata": {},
   "outputs": [
    {
     "name": "stdout",
     "output_type": "stream",
     "text": [
      "3/3 - 0s - loss: 1.3290 - accuracy: 0.4167\n"
     ]
    }
   ],
   "source": [
    "results = model.evaluate(X_test,y_test, verbose=2)"
   ]
  },
  {
   "cell_type": "code",
   "execution_count": 21,
   "id": "373de0a8",
   "metadata": {},
   "outputs": [],
   "source": [
    "loss = results[0]\n",
    "accuracy = results[1] "
   ]
  },
  {
   "cell_type": "code",
   "execution_count": 22,
   "id": "31a782db",
   "metadata": {},
   "outputs": [],
   "source": [
    "# 예측\n",
    "y_pred = model.predict(X_test)\n",
    "y_pred_classes = y_pred.argmax(axis=-1)  # 예측 확률 값을 클래스 레이블로 변환"
   ]
  },
  {
   "cell_type": "code",
   "execution_count": 23,
   "id": "0b67b48d",
   "metadata": {
    "scrolled": true
   },
   "outputs": [
    {
     "name": "stdout",
     "output_type": "stream",
     "text": [
      "[0 1 0 1 2 2 2 0 3 2 0 2 0 3 3 3 2 2 1 0 3 1 3 0 1 0 3 0 2 1 2 2 2 0 2 2 3\n",
      " 2 1 0 1 1 0 3 0 0 1 3 2 0 2 0 2 3 3 0 0 0 0 1 3 0 3 3 1 0 1 2 0 0 3 1 0 1\n",
      " 3 2 0 2 2 1 1 1 0 0 1 1 1 0 0 3 3 1 0 0 2 3]\n"
     ]
    }
   ],
   "source": [
    "print(y_pred_classes)"
   ]
  },
  {
   "cell_type": "code",
   "execution_count": 24,
   "id": "6b7fe807",
   "metadata": {
    "scrolled": false
   },
   "outputs": [
    {
     "name": "stdout",
     "output_type": "stream",
     "text": [
      "              precision    recall  f1-score   support\n",
      "\n",
      "           0       0.59      0.56      0.58        34\n",
      "           1       0.32      0.27      0.29        26\n",
      "           2       0.55      0.60      0.57        20\n",
      "           3       0.10      0.12      0.11        16\n",
      "\n",
      "    accuracy                           0.42        96\n",
      "   macro avg       0.39      0.39      0.39        96\n",
      "weighted avg       0.43      0.42      0.42        96\n",
      "\n"
     ]
    }
   ],
   "source": [
    "from sklearn.metrics import classification_report\n",
    "\n",
    "report_dict = classification_report(y_test, y_pred_classes)\n",
    "\n",
    "print(report_dict)\n"
   ]
  },
  {
   "cell_type": "code",
   "execution_count": 25,
   "id": "c3207bed",
   "metadata": {},
   "outputs": [
    {
     "name": "stdout",
     "output_type": "stream",
     "text": [
      "              precision    recall  f1-score   support\n",
      "\n",
      "           0       0.59      0.56      0.58        34\n",
      "           1       0.32      0.27      0.29        26\n",
      "           2       0.55      0.60      0.57        20\n",
      "           3       0.10      0.12      0.11        16\n",
      "\n",
      "    accuracy                           0.42        96\n",
      "   macro avg       0.39      0.39      0.39        96\n",
      "weighted avg       0.43      0.42      0.42        96\n",
      "\n"
     ]
    }
   ],
   "source": [
    "print(report_dict)"
   ]
  },
  {
   "cell_type": "code",
   "execution_count": 26,
   "id": "f88e9254",
   "metadata": {},
   "outputs": [
    {
     "name": "stdout",
     "output_type": "stream",
     "text": [
      "weighted avg precision : 0.42676373106060606\n",
      "weighted avg recall : 0.4166666666666667\n",
      "weighted avg f1-score : 0.42047333453583446\n"
     ]
    }
   ],
   "source": [
    "report_dict = classification_report(y_test, y_pred_classes, output_dict=True)\n",
    "\n",
    "# 필요한 값 추출 및 출력\n",
    "precision = report_dict['weighted avg']['precision']\n",
    "recall = report_dict['weighted avg']['recall']\n",
    "f1 = report_dict['weighted avg']['f1-score']\n",
    "\n",
    "print(\"weighted avg precision :\", precision)\n",
    "print(\"weighted avg recall :\", recall)\n",
    "print(\"weighted avg f1-score :\", f1)"
   ]
  },
  {
   "cell_type": "code",
   "execution_count": 27,
   "id": "9a41b7c7",
   "metadata": {},
   "outputs": [],
   "source": [
    "df = pd.DataFrame(report_dict)"
   ]
  },
  {
   "cell_type": "code",
   "execution_count": 28,
   "id": "252d21f3",
   "metadata": {},
   "outputs": [
    {
     "data": {
      "text/html": [
       "<div>\n",
       "<style scoped>\n",
       "    .dataframe tbody tr th:only-of-type {\n",
       "        vertical-align: middle;\n",
       "    }\n",
       "\n",
       "    .dataframe tbody tr th {\n",
       "        vertical-align: top;\n",
       "    }\n",
       "\n",
       "    .dataframe thead th {\n",
       "        text-align: right;\n",
       "    }\n",
       "</style>\n",
       "<table border=\"1\" class=\"dataframe\">\n",
       "  <thead>\n",
       "    <tr style=\"text-align: right;\">\n",
       "      <th></th>\n",
       "      <th>0</th>\n",
       "      <th>1</th>\n",
       "      <th>2</th>\n",
       "      <th>3</th>\n",
       "      <th>accuracy</th>\n",
       "      <th>macro avg</th>\n",
       "      <th>weighted avg</th>\n",
       "    </tr>\n",
       "  </thead>\n",
       "  <tbody>\n",
       "    <tr>\n",
       "      <th>precision</th>\n",
       "      <td>0.593750</td>\n",
       "      <td>0.318182</td>\n",
       "      <td>0.545455</td>\n",
       "      <td>0.100000</td>\n",
       "      <td>0.416667</td>\n",
       "      <td>0.389347</td>\n",
       "      <td>0.426764</td>\n",
       "    </tr>\n",
       "    <tr>\n",
       "      <th>recall</th>\n",
       "      <td>0.558824</td>\n",
       "      <td>0.269231</td>\n",
       "      <td>0.600000</td>\n",
       "      <td>0.125000</td>\n",
       "      <td>0.416667</td>\n",
       "      <td>0.388264</td>\n",
       "      <td>0.416667</td>\n",
       "    </tr>\n",
       "    <tr>\n",
       "      <th>f1-score</th>\n",
       "      <td>0.575758</td>\n",
       "      <td>0.291667</td>\n",
       "      <td>0.571429</td>\n",
       "      <td>0.111111</td>\n",
       "      <td>0.416667</td>\n",
       "      <td>0.387491</td>\n",
       "      <td>0.420473</td>\n",
       "    </tr>\n",
       "    <tr>\n",
       "      <th>support</th>\n",
       "      <td>34.000000</td>\n",
       "      <td>26.000000</td>\n",
       "      <td>20.000000</td>\n",
       "      <td>16.000000</td>\n",
       "      <td>0.416667</td>\n",
       "      <td>96.000000</td>\n",
       "      <td>96.000000</td>\n",
       "    </tr>\n",
       "  </tbody>\n",
       "</table>\n",
       "</div>"
      ],
      "text/plain": [
       "                   0          1          2          3  accuracy  macro avg  \\\n",
       "precision   0.593750   0.318182   0.545455   0.100000  0.416667   0.389347   \n",
       "recall      0.558824   0.269231   0.600000   0.125000  0.416667   0.388264   \n",
       "f1-score    0.575758   0.291667   0.571429   0.111111  0.416667   0.387491   \n",
       "support    34.000000  26.000000  20.000000  16.000000  0.416667  96.000000   \n",
       "\n",
       "           weighted avg  \n",
       "precision      0.426764  \n",
       "recall         0.416667  \n",
       "f1-score       0.420473  \n",
       "support       96.000000  "
      ]
     },
     "execution_count": 28,
     "metadata": {},
     "output_type": "execute_result"
    }
   ],
   "source": [
    "df"
   ]
  }
 ],
 "metadata": {
  "kernelspec": {
   "display_name": "Python 3 (ipykernel)",
   "language": "python",
   "name": "python3"
  },
  "language_info": {
   "codemirror_mode": {
    "name": "ipython",
    "version": 3
   },
   "file_extension": ".py",
   "mimetype": "text/x-python",
   "name": "python",
   "nbconvert_exporter": "python",
   "pygments_lexer": "ipython3",
   "version": "3.9.7"
  }
 },
 "nbformat": 4,
 "nbformat_minor": 5
}
