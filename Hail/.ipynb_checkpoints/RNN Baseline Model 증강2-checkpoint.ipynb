{
 "cells": [
  {
   "cell_type": "markdown",
   "id": "187277b3",
   "metadata": {},
   "source": [
    "# RNN을 활용한 BaselineModel"
   ]
  },
  {
   "cell_type": "markdown",
   "id": "a9169e8d",
   "metadata": {},
   "source": [
    "original_text, alpha_sr=0.1, alpha_ri=0.1, alpha_rs=0.1, p_rd=0.1, num_aug=5"
   ]
  },
  {
   "cell_type": "code",
   "execution_count": 135,
   "id": "6a042b19",
   "metadata": {},
   "outputs": [
    {
     "name": "stdout",
     "output_type": "stream",
     "text": [
      "Wed Jun 26 13:52:38 2024       \r\n",
      "+-----------------------------------------------------------------------------+\r\n",
      "| NVIDIA-SMI 470.239.06   Driver Version: 470.239.06   CUDA Version: 11.4     |\r\n",
      "|-------------------------------+----------------------+----------------------+\r\n",
      "| GPU  Name        Persistence-M| Bus-Id        Disp.A | Volatile Uncorr. ECC |\r\n",
      "| Fan  Temp  Perf  Pwr:Usage/Cap|         Memory-Usage | GPU-Util  Compute M. |\r\n",
      "|                               |                      |               MIG M. |\r\n",
      "|===============================+======================+======================|\r\n",
      "|   0  Tesla T4            Off  | 00000000:00:04.0 Off |                    0 |\r\n",
      "| N/A   69C    P0    32W /  70W |    731MiB / 15109MiB |      0%      Default |\r\n",
      "|                               |                      |                  N/A |\r\n",
      "+-------------------------------+----------------------+----------------------+\r\n",
      "                                                                               \r\n",
      "+-----------------------------------------------------------------------------+\r\n",
      "| Processes:                                                                  |\r\n",
      "|  GPU   GI   CI        PID   Type   Process name                  GPU Memory |\r\n",
      "|        ID   ID                                                   Usage      |\r\n",
      "|=============================================================================|\r\n",
      "+-----------------------------------------------------------------------------+\r\n"
     ]
    }
   ],
   "source": [
    "# GPU로 Tesla T4가 준비돼있습니다.\n",
    "!nvidia-smi"
   ]
  },
  {
   "cell_type": "code",
   "execution_count": 136,
   "id": "ea998b3a",
   "metadata": {},
   "outputs": [],
   "source": [
    "import pandas as pd\n",
    "import tensorflow as tf\n",
    "from tensorflow import keras\n",
    "from sklearn.model_selection import train_test_split\n",
    "from sklearn.preprocessing import LabelEncoder\n",
    "import json"
   ]
  },
  {
   "cell_type": "markdown",
   "id": "ee0797fe",
   "metadata": {},
   "source": [
    "## 1. 데이터 가져오기"
   ]
  },
  {
   "cell_type": "code",
   "execution_count": 137,
   "id": "d92d01c2",
   "metadata": {
    "scrolled": false
   },
   "outputs": [
    {
     "data": {
      "text/html": [
       "<div>\n",
       "<style scoped>\n",
       "    .dataframe tbody tr th:only-of-type {\n",
       "        vertical-align: middle;\n",
       "    }\n",
       "\n",
       "    .dataframe tbody tr th {\n",
       "        vertical-align: top;\n",
       "    }\n",
       "\n",
       "    .dataframe thead th {\n",
       "        text-align: right;\n",
       "    }\n",
       "</style>\n",
       "<table border=\"1\" class=\"dataframe\">\n",
       "  <thead>\n",
       "    <tr style=\"text-align: right;\">\n",
       "      <th></th>\n",
       "      <th>idx</th>\n",
       "      <th>class</th>\n",
       "      <th>conversation</th>\n",
       "    </tr>\n",
       "  </thead>\n",
       "  <tbody>\n",
       "    <tr>\n",
       "      <th>0</th>\n",
       "      <td>0.0</td>\n",
       "      <td>협박 대화</td>\n",
       "      <td>지금 너 스스로를 죽여달라고 애원하는 것인가?\\n 아닙니다. 죄송합니다.\\n 죽을 ...</td>\n",
       "    </tr>\n",
       "    <tr>\n",
       "      <th>1</th>\n",
       "      <td>1.0</td>\n",
       "      <td>협박 대화</td>\n",
       "      <td>길동경찰서입니다.\\n9시 40분 마트에 폭발물을 설치할거다.\\n네?\\n똑바로 들어 ...</td>\n",
       "    </tr>\n",
       "    <tr>\n",
       "      <th>2</th>\n",
       "      <td>2.0</td>\n",
       "      <td>기타 괴롭힘 대화</td>\n",
       "      <td>너 되게 귀여운거 알지? 나보다 작은 남자는 첨봤어.\\n그만해. 니들 놀리는거 재미...</td>\n",
       "    </tr>\n",
       "    <tr>\n",
       "      <th>3</th>\n",
       "      <td>3.0</td>\n",
       "      <td>갈취 대화</td>\n",
       "      <td>어이 거기\\n예??\\n너 말이야 너. 이리 오라고\\n무슨 일.\\n너 옷 좋아보인다?...</td>\n",
       "    </tr>\n",
       "    <tr>\n",
       "      <th>4</th>\n",
       "      <td>4.0</td>\n",
       "      <td>갈취 대화</td>\n",
       "      <td>저기요 혹시 날이 너무 뜨겁잖아요? 저희 회사에서 이 선크림 파는데 한 번 손등에 ...</td>\n",
       "    </tr>\n",
       "  </tbody>\n",
       "</table>\n",
       "</div>"
      ],
      "text/plain": [
       "   idx      class                                       conversation\n",
       "0  0.0      협박 대화  지금 너 스스로를 죽여달라고 애원하는 것인가?\\n 아닙니다. 죄송합니다.\\n 죽을 ...\n",
       "1  1.0      협박 대화  길동경찰서입니다.\\n9시 40분 마트에 폭발물을 설치할거다.\\n네?\\n똑바로 들어 ...\n",
       "2  2.0  기타 괴롭힘 대화  너 되게 귀여운거 알지? 나보다 작은 남자는 첨봤어.\\n그만해. 니들 놀리는거 재미...\n",
       "3  3.0      갈취 대화  어이 거기\\n예??\\n너 말이야 너. 이리 오라고\\n무슨 일.\\n너 옷 좋아보인다?...\n",
       "4  4.0      갈취 대화  저기요 혹시 날이 너무 뜨겁잖아요? 저희 회사에서 이 선크림 파는데 한 번 손등에 ..."
      ]
     },
     "execution_count": 137,
     "metadata": {},
     "output_type": "execute_result"
    }
   ],
   "source": [
    "train1_data_path =\"~/aiffel/dktc/data/train.csv\"\n",
    "data1 = pd.read_csv(train1_data_path)\n",
    "\n",
    "train_data_path =\"augmented_train-Copy1.csv\"\n",
    "data = pd.read_csv(train_data_path)\n",
    "data.head()"
   ]
  },
  {
   "cell_type": "code",
   "execution_count": 138,
   "id": "39474f47",
   "metadata": {
    "scrolled": true
   },
   "outputs": [
    {
     "data": {
      "text/plain": [
       "(27650, 3)"
      ]
     },
     "execution_count": 138,
     "metadata": {},
     "output_type": "execute_result"
    }
   ],
   "source": [
    "data.shape"
   ]
  },
  {
   "cell_type": "markdown",
   "id": "39b091f8",
   "metadata": {},
   "source": [
    "## 2. 데이터 전처리"
   ]
  },
  {
   "cell_type": "markdown",
   "id": "7652201d",
   "metadata": {},
   "source": [
    "### 2-1)결측치, 중복데이터 확인"
   ]
  },
  {
   "cell_type": "code",
   "execution_count": 139,
   "id": "538b4c58",
   "metadata": {
    "scrolled": false
   },
   "outputs": [
    {
     "name": "stdout",
     "output_type": "stream",
     "text": [
      "idx             23700\n",
      "class               0\n",
      "conversation        0\n",
      "dtype: int64\n"
     ]
    }
   ],
   "source": [
    "print(data.isna().sum())"
   ]
  },
  {
   "cell_type": "code",
   "execution_count": 140,
   "id": "7c17f07d",
   "metadata": {
    "scrolled": true
   },
   "outputs": [
    {
     "data": {
      "text/html": [
       "<div>\n",
       "<style scoped>\n",
       "    .dataframe tbody tr th:only-of-type {\n",
       "        vertical-align: middle;\n",
       "    }\n",
       "\n",
       "    .dataframe tbody tr th {\n",
       "        vertical-align: top;\n",
       "    }\n",
       "\n",
       "    .dataframe thead th {\n",
       "        text-align: right;\n",
       "    }\n",
       "</style>\n",
       "<table border=\"1\" class=\"dataframe\">\n",
       "  <thead>\n",
       "    <tr style=\"text-align: right;\">\n",
       "      <th></th>\n",
       "      <th>idx</th>\n",
       "      <th>class</th>\n",
       "      <th>conversation</th>\n",
       "      <th>duplicates</th>\n",
       "    </tr>\n",
       "  </thead>\n",
       "  <tbody>\n",
       "    <tr>\n",
       "      <th>392</th>\n",
       "      <td>392</td>\n",
       "      <td>기타 괴롭힘 대화</td>\n",
       "      <td>병신이 아이스크림 먹게 돼 있냐?\\n난 먹으면 안 돼? 그만 좀 해.\\n당연히 안 ...</td>\n",
       "      <td>True</td>\n",
       "    </tr>\n",
       "    <tr>\n",
       "      <th>523</th>\n",
       "      <td>523</td>\n",
       "      <td>직장 내 괴롭힘 대화</td>\n",
       "      <td>과장님. 저 이번에 휴가 좀 갔다와도 되겠습니까.?\\n휴가? 왜??\\n좀 쉬다가 오...</td>\n",
       "      <td>True</td>\n",
       "    </tr>\n",
       "    <tr>\n",
       "      <th>789</th>\n",
       "      <td>789</td>\n",
       "      <td>기타 괴롭힘 대화</td>\n",
       "      <td>야 얘 이 쪽 손가락 세 개밖에 없다\\n엥 손가락이 세개밖에 없을 수가 있어?\\n봐...</td>\n",
       "      <td>True</td>\n",
       "    </tr>\n",
       "    <tr>\n",
       "      <th>824</th>\n",
       "      <td>824</td>\n",
       "      <td>기타 괴롭힘 대화</td>\n",
       "      <td>이야 내동생 여자친구한테 편지쓰네?\\n 아 형 돌려줘.\\n 어디보자. 사랑하는 여친...</td>\n",
       "      <td>True</td>\n",
       "    </tr>\n",
       "    <tr>\n",
       "      <th>869</th>\n",
       "      <td>869</td>\n",
       "      <td>직장 내 괴롭힘 대화</td>\n",
       "      <td>지현씨 나 소개팅 좀 시켜줘봐\\n네? 저 주변에 아는 사람이 없어서요\\n아 상사라 ...</td>\n",
       "      <td>True</td>\n",
       "    </tr>\n",
       "    <tr>\n",
       "      <th>...</th>\n",
       "      <td>...</td>\n",
       "      <td>...</td>\n",
       "      <td>...</td>\n",
       "      <td>...</td>\n",
       "    </tr>\n",
       "    <tr>\n",
       "      <th>3797</th>\n",
       "      <td>3797</td>\n",
       "      <td>기타 괴롭힘 대화</td>\n",
       "      <td>너 이번 방학 때 쌍꺼풀 수술 하고왔지?\\n아닌데?\\n아니긴 뭐가 아니야. 눈이 이...</td>\n",
       "      <td>True</td>\n",
       "    </tr>\n",
       "    <tr>\n",
       "      <th>3798</th>\n",
       "      <td>3798</td>\n",
       "      <td>기타 괴롭힘 대화</td>\n",
       "      <td>안녕하세요 지금 먹방 촬영중인데 촬영가능할까요?\\n안돼요\\n한번만 안될까요?\\n안돼...</td>\n",
       "      <td>True</td>\n",
       "    </tr>\n",
       "    <tr>\n",
       "      <th>3855</th>\n",
       "      <td>3855</td>\n",
       "      <td>기타 괴롭힘 대화</td>\n",
       "      <td>그 소문 진짜야? 너가 다른 애들 뒷담화하고 다녔다며?\\n응? 나 그런 적 없는데?...</td>\n",
       "      <td>True</td>\n",
       "    </tr>\n",
       "    <tr>\n",
       "      <th>3874</th>\n",
       "      <td>3874</td>\n",
       "      <td>기타 괴롭힘 대화</td>\n",
       "      <td>야 니 왤캐 못생겼냐?\\n뭐라그랬냐?\\n으 나 보고 말하지마 니 얼굴보면 토나올거 ...</td>\n",
       "      <td>True</td>\n",
       "    </tr>\n",
       "    <tr>\n",
       "      <th>3928</th>\n",
       "      <td>3928</td>\n",
       "      <td>기타 괴롭힘 대화</td>\n",
       "      <td>새파랗게 젊은게 어디 여길 앉아있어\\n저 임산부에요\\n사지 멀쩡한게! 임신이 벼슬이...</td>\n",
       "      <td>True</td>\n",
       "    </tr>\n",
       "  </tbody>\n",
       "</table>\n",
       "<p>104 rows × 4 columns</p>\n",
       "</div>"
      ],
      "text/plain": [
       "       idx        class                                       conversation  \\\n",
       "392    392    기타 괴롭힘 대화  병신이 아이스크림 먹게 돼 있냐?\\n난 먹으면 안 돼? 그만 좀 해.\\n당연히 안 ...   \n",
       "523    523  직장 내 괴롭힘 대화  과장님. 저 이번에 휴가 좀 갔다와도 되겠습니까.?\\n휴가? 왜??\\n좀 쉬다가 오...   \n",
       "789    789    기타 괴롭힘 대화  야 얘 이 쪽 손가락 세 개밖에 없다\\n엥 손가락이 세개밖에 없을 수가 있어?\\n봐...   \n",
       "824    824    기타 괴롭힘 대화  이야 내동생 여자친구한테 편지쓰네?\\n 아 형 돌려줘.\\n 어디보자. 사랑하는 여친...   \n",
       "869    869  직장 내 괴롭힘 대화  지현씨 나 소개팅 좀 시켜줘봐\\n네? 저 주변에 아는 사람이 없어서요\\n아 상사라 ...   \n",
       "...    ...          ...                                                ...   \n",
       "3797  3797    기타 괴롭힘 대화  너 이번 방학 때 쌍꺼풀 수술 하고왔지?\\n아닌데?\\n아니긴 뭐가 아니야. 눈이 이...   \n",
       "3798  3798    기타 괴롭힘 대화  안녕하세요 지금 먹방 촬영중인데 촬영가능할까요?\\n안돼요\\n한번만 안될까요?\\n안돼...   \n",
       "3855  3855    기타 괴롭힘 대화  그 소문 진짜야? 너가 다른 애들 뒷담화하고 다녔다며?\\n응? 나 그런 적 없는데?...   \n",
       "3874  3874    기타 괴롭힘 대화  야 니 왤캐 못생겼냐?\\n뭐라그랬냐?\\n으 나 보고 말하지마 니 얼굴보면 토나올거 ...   \n",
       "3928  3928    기타 괴롭힘 대화  새파랗게 젊은게 어디 여길 앉아있어\\n저 임산부에요\\n사지 멀쩡한게! 임신이 벼슬이...   \n",
       "\n",
       "      duplicates  \n",
       "392         True  \n",
       "523         True  \n",
       "789         True  \n",
       "824         True  \n",
       "869         True  \n",
       "...          ...  \n",
       "3797        True  \n",
       "3798        True  \n",
       "3855        True  \n",
       "3874        True  \n",
       "3928        True  \n",
       "\n",
       "[104 rows x 4 columns]"
      ]
     },
     "execution_count": 140,
     "metadata": {},
     "output_type": "execute_result"
    }
   ],
   "source": [
    "#중복인 행 확인\n",
    "data['duplicates'] = data.duplicated(['conversation'])\n",
    "data[data['duplicates'] == True]\n",
    "\n",
    "data1['duplicates'] = data1.duplicated(['conversation'])\n",
    "data1[data1['duplicates'] == True]"
   ]
  },
  {
   "cell_type": "code",
   "execution_count": 141,
   "id": "451f3efb",
   "metadata": {},
   "outputs": [],
   "source": [
    "#중복제거\n",
    "data = data.drop_duplicates(['conversation'])\n",
    "data1 = data1.drop_duplicates(['conversation'])"
   ]
  },
  {
   "cell_type": "code",
   "execution_count": 142,
   "id": "59d7876d",
   "metadata": {
    "scrolled": true
   },
   "outputs": [],
   "source": [
    "#conversation과 class만 남김\n",
    "data = data[['conversation','class']]\n",
    "data.head()\n",
    "\n",
    "data1 = data1[['conversation','class']]"
   ]
  },
  {
   "cell_type": "code",
   "execution_count": 143,
   "id": "1edbd61c",
   "metadata": {},
   "outputs": [
    {
     "data": {
      "text/plain": [
       "(3846, 2)"
      ]
     },
     "execution_count": 143,
     "metadata": {},
     "output_type": "execute_result"
    }
   ],
   "source": [
    "data1.shape"
   ]
  },
  {
   "cell_type": "code",
   "execution_count": 144,
   "id": "77204580",
   "metadata": {
    "scrolled": false
   },
   "outputs": [
    {
     "data": {
      "text/plain": [
       "(21307, 2)"
      ]
     },
     "execution_count": 144,
     "metadata": {},
     "output_type": "execute_result"
    }
   ],
   "source": [
    "data.shape"
   ]
  },
  {
   "cell_type": "code",
   "execution_count": 145,
   "id": "1ab7a0c7",
   "metadata": {
    "scrolled": true
   },
   "outputs": [
    {
     "data": {
      "text/html": [
       "<div>\n",
       "<style scoped>\n",
       "    .dataframe tbody tr th:only-of-type {\n",
       "        vertical-align: middle;\n",
       "    }\n",
       "\n",
       "    .dataframe tbody tr th {\n",
       "        vertical-align: top;\n",
       "    }\n",
       "\n",
       "    .dataframe thead th {\n",
       "        text-align: right;\n",
       "    }\n",
       "</style>\n",
       "<table border=\"1\" class=\"dataframe\">\n",
       "  <thead>\n",
       "    <tr style=\"text-align: right;\">\n",
       "      <th></th>\n",
       "      <th>conversation</th>\n",
       "      <th>class</th>\n",
       "    </tr>\n",
       "  </thead>\n",
       "  <tbody>\n",
       "    <tr>\n",
       "      <th>0</th>\n",
       "      <td>지금 너 스스로를 죽여달라고 애원하는 것인가?\\n 아닙니다. 죄송합니다.\\n 죽을 ...</td>\n",
       "      <td>협박 대화</td>\n",
       "    </tr>\n",
       "    <tr>\n",
       "      <th>1</th>\n",
       "      <td>길동경찰서입니다.\\n9시 40분 마트에 폭발물을 설치할거다.\\n네?\\n똑바로 들어 ...</td>\n",
       "      <td>협박 대화</td>\n",
       "    </tr>\n",
       "    <tr>\n",
       "      <th>2</th>\n",
       "      <td>너 되게 귀여운거 알지? 나보다 작은 남자는 첨봤어.\\n그만해. 니들 놀리는거 재미...</td>\n",
       "      <td>기타 괴롭힘 대화</td>\n",
       "    </tr>\n",
       "    <tr>\n",
       "      <th>3</th>\n",
       "      <td>어이 거기\\n예??\\n너 말이야 너. 이리 오라고\\n무슨 일.\\n너 옷 좋아보인다?...</td>\n",
       "      <td>갈취 대화</td>\n",
       "    </tr>\n",
       "    <tr>\n",
       "      <th>4</th>\n",
       "      <td>저기요 혹시 날이 너무 뜨겁잖아요? 저희 회사에서 이 선크림 파는데 한 번 손등에 ...</td>\n",
       "      <td>갈취 대화</td>\n",
       "    </tr>\n",
       "    <tr>\n",
       "      <th>5</th>\n",
       "      <td>나 이틀뒤에 가나다 음식점 예약좀 해줘. 저녁7시로.\\n가나다 음식점이요.?\\n응....</td>\n",
       "      <td>직장 내 괴롭힘 대화</td>\n",
       "    </tr>\n",
       "    <tr>\n",
       "      <th>6</th>\n",
       "      <td>35번 손님 아이스커피 두잔나왔습니다\\n아이스커피? \\n네 맛있게드세요\\n저기요 아...</td>\n",
       "      <td>기타 괴롭힘 대화</td>\n",
       "    </tr>\n",
       "    <tr>\n",
       "      <th>7</th>\n",
       "      <td>경비아저씨 내차에 경고장 붙였어요?\\n내가 여기 몇년째 사는데 아직도 내차인줄 모르...</td>\n",
       "      <td>기타 괴롭힘 대화</td>\n",
       "    </tr>\n",
       "    <tr>\n",
       "      <th>8</th>\n",
       "      <td>이거 할인 된다면서요\\n 확인해보겠습니다\\n 아까 저 시람은 할인 해주던데\\n 네 ...</td>\n",
       "      <td>기타 괴롭힘 대화</td>\n",
       "    </tr>\n",
       "    <tr>\n",
       "      <th>9</th>\n",
       "      <td>자네 세금계산서 보내준 거 메일이랑 수치가 다르던데?\\n그게.\\n얼마나 해먹었어? ...</td>\n",
       "      <td>갈취 대화</td>\n",
       "    </tr>\n",
       "    <tr>\n",
       "      <th>10</th>\n",
       "      <td>네 뭐 드릴까요?\\n말보르 레드 하나.\\n네. 여기요!\\n여기 사장은 없어?\\n네 ...</td>\n",
       "      <td>갈취 대화</td>\n",
       "    </tr>\n",
       "    <tr>\n",
       "      <th>11</th>\n",
       "      <td>이대리 오늘 도대체 뭘한거야?\\n창고정리도 하고 바닥도 청소했습니다\\n이게 한거니?...</td>\n",
       "      <td>직장 내 괴롭힘 대화</td>\n",
       "    </tr>\n",
       "    <tr>\n",
       "      <th>12</th>\n",
       "      <td>네네 무슨 일 때문에 전화주셨나요?\\n우리 애가 지우개 하나 훔친거 가지고 애들 앞...</td>\n",
       "      <td>협박 대화</td>\n",
       "    </tr>\n",
       "    <tr>\n",
       "      <th>13</th>\n",
       "      <td>형! 형! 돈좀있어?\\n저 저요.?\\n여기 형말고 누가 있어? 형 얼마 있어?\\n저...</td>\n",
       "      <td>갈취 대화</td>\n",
       "    </tr>\n",
       "    <tr>\n",
       "      <th>14</th>\n",
       "      <td>김사원\\n대리님 왜 그러세요?\\n이거 오늘까지 제출해야 하는데 좀 해줄래?\\n네? ...</td>\n",
       "      <td>직장 내 괴롭힘 대화</td>\n",
       "    </tr>\n",
       "    <tr>\n",
       "      <th>15</th>\n",
       "      <td>야 너 휴대폰좀 빌려줘봐\\n안돼. 지난달에도 휴대폰 요금이 너무 많이 나와서 엄마한...</td>\n",
       "      <td>갈취 대화</td>\n",
       "    </tr>\n",
       "    <tr>\n",
       "      <th>16</th>\n",
       "      <td>잠깐만 거기 학생 \\n예? 저 부르셨너요?\\n그럼 누구겠어 \\n왜부르시죠\\n내가 지...</td>\n",
       "      <td>갈취 대화</td>\n",
       "    </tr>\n",
       "    <tr>\n",
       "      <th>17</th>\n",
       "      <td>얼마 가져왔어?\\n십만원 정도.\\n야 이걸로 새 폰을 어떻게 사\\n이게 최선이었어....</td>\n",
       "      <td>갈취 대화</td>\n",
       "    </tr>\n",
       "    <tr>\n",
       "      <th>18</th>\n",
       "      <td>야 너이마빡에 빛이난다\\n어?\\n야 한대만 때려보자 퍽\\n아 흑 왜그래 \\n아팠어?...</td>\n",
       "      <td>기타 괴롭힘 대화</td>\n",
       "    </tr>\n",
       "    <tr>\n",
       "      <th>19</th>\n",
       "      <td>나씨 정수기 물탱크 좀 갈아주시겠어요?\\n싫습니다. 물 저만 마시는 것도 아닌데 매...</td>\n",
       "      <td>직장 내 괴롭힘 대화</td>\n",
       "    </tr>\n",
       "  </tbody>\n",
       "</table>\n",
       "</div>"
      ],
      "text/plain": [
       "                                         conversation        class\n",
       "0   지금 너 스스로를 죽여달라고 애원하는 것인가?\\n 아닙니다. 죄송합니다.\\n 죽을 ...        협박 대화\n",
       "1   길동경찰서입니다.\\n9시 40분 마트에 폭발물을 설치할거다.\\n네?\\n똑바로 들어 ...        협박 대화\n",
       "2   너 되게 귀여운거 알지? 나보다 작은 남자는 첨봤어.\\n그만해. 니들 놀리는거 재미...    기타 괴롭힘 대화\n",
       "3   어이 거기\\n예??\\n너 말이야 너. 이리 오라고\\n무슨 일.\\n너 옷 좋아보인다?...        갈취 대화\n",
       "4   저기요 혹시 날이 너무 뜨겁잖아요? 저희 회사에서 이 선크림 파는데 한 번 손등에 ...        갈취 대화\n",
       "5   나 이틀뒤에 가나다 음식점 예약좀 해줘. 저녁7시로.\\n가나다 음식점이요.?\\n응....  직장 내 괴롭힘 대화\n",
       "6   35번 손님 아이스커피 두잔나왔습니다\\n아이스커피? \\n네 맛있게드세요\\n저기요 아...    기타 괴롭힘 대화\n",
       "7   경비아저씨 내차에 경고장 붙였어요?\\n내가 여기 몇년째 사는데 아직도 내차인줄 모르...    기타 괴롭힘 대화\n",
       "8   이거 할인 된다면서요\\n 확인해보겠습니다\\n 아까 저 시람은 할인 해주던데\\n 네 ...    기타 괴롭힘 대화\n",
       "9   자네 세금계산서 보내준 거 메일이랑 수치가 다르던데?\\n그게.\\n얼마나 해먹었어? ...        갈취 대화\n",
       "10  네 뭐 드릴까요?\\n말보르 레드 하나.\\n네. 여기요!\\n여기 사장은 없어?\\n네 ...        갈취 대화\n",
       "11  이대리 오늘 도대체 뭘한거야?\\n창고정리도 하고 바닥도 청소했습니다\\n이게 한거니?...  직장 내 괴롭힘 대화\n",
       "12  네네 무슨 일 때문에 전화주셨나요?\\n우리 애가 지우개 하나 훔친거 가지고 애들 앞...        협박 대화\n",
       "13  형! 형! 돈좀있어?\\n저 저요.?\\n여기 형말고 누가 있어? 형 얼마 있어?\\n저...        갈취 대화\n",
       "14  김사원\\n대리님 왜 그러세요?\\n이거 오늘까지 제출해야 하는데 좀 해줄래?\\n네? ...  직장 내 괴롭힘 대화\n",
       "15  야 너 휴대폰좀 빌려줘봐\\n안돼. 지난달에도 휴대폰 요금이 너무 많이 나와서 엄마한...        갈취 대화\n",
       "16  잠깐만 거기 학생 \\n예? 저 부르셨너요?\\n그럼 누구겠어 \\n왜부르시죠\\n내가 지...        갈취 대화\n",
       "17  얼마 가져왔어?\\n십만원 정도.\\n야 이걸로 새 폰을 어떻게 사\\n이게 최선이었어....        갈취 대화\n",
       "18  야 너이마빡에 빛이난다\\n어?\\n야 한대만 때려보자 퍽\\n아 흑 왜그래 \\n아팠어?...    기타 괴롭힘 대화\n",
       "19  나씨 정수기 물탱크 좀 갈아주시겠어요?\\n싫습니다. 물 저만 마시는 것도 아닌데 매...  직장 내 괴롭힘 대화"
      ]
     },
     "execution_count": 145,
     "metadata": {},
     "output_type": "execute_result"
    }
   ],
   "source": [
    "data[0:20]"
   ]
  },
  {
   "cell_type": "code",
   "execution_count": 146,
   "id": "9e79df03",
   "metadata": {},
   "outputs": [
    {
     "data": {
      "text/html": [
       "<div>\n",
       "<style scoped>\n",
       "    .dataframe tbody tr th:only-of-type {\n",
       "        vertical-align: middle;\n",
       "    }\n",
       "\n",
       "    .dataframe tbody tr th {\n",
       "        vertical-align: top;\n",
       "    }\n",
       "\n",
       "    .dataframe thead th {\n",
       "        text-align: right;\n",
       "    }\n",
       "</style>\n",
       "<table border=\"1\" class=\"dataframe\">\n",
       "  <thead>\n",
       "    <tr style=\"text-align: right;\">\n",
       "      <th></th>\n",
       "      <th>conversation</th>\n",
       "      <th>class</th>\n",
       "    </tr>\n",
       "  </thead>\n",
       "  <tbody>\n",
       "    <tr>\n",
       "      <th>3950</th>\n",
       "      <td>지금 너 스스로를 죽여달라고 애원하는 못하겠습니다. 아닙니다. 죄송합니다.\\n 죽을...</td>\n",
       "      <td>협박 대화</td>\n",
       "    </tr>\n",
       "    <tr>\n",
       "      <th>3951</th>\n",
       "      <td>지금 너 스스로를 진 죽여달라고 애원하는 것인가?\\n 아닙니다. 죄송합니다.\\n 진...</td>\n",
       "      <td>협박 대화</td>\n",
       "    </tr>\n",
       "    <tr>\n",
       "      <th>3952</th>\n",
       "      <td>지금 너 스스로를 죽여달라고 애원하는 것인가?\\n 아닙니다. 죄송합니다.\\n 죽을 ...</td>\n",
       "      <td>협박 대화</td>\n",
       "    </tr>\n",
       "    <tr>\n",
       "      <th>3953</th>\n",
       "      <td>너 스스로를 애원하는 것인가?\\n 아닙니다. 죄송합니다.\\n 거면 혼자 죽지 우리까...</td>\n",
       "      <td>협박 대화</td>\n",
       "    </tr>\n",
       "    <tr>\n",
       "      <th>3954</th>\n",
       "      <td>지금 너 스스로를 죽여달라고 애원하는 것인가?\\n 아닙니다. 죄송합니다.\\n 죽을 ...</td>\n",
       "      <td>협박 대화</td>\n",
       "    </tr>\n",
       "    <tr>\n",
       "      <th>3956</th>\n",
       "      <td>길동경찰서입니다.\\n9시 40분 한번만 다 설치할거다.\\n네?\\n똑바로 들어 마트에...</td>\n",
       "      <td>협박 대화</td>\n",
       "    </tr>\n",
       "    <tr>\n",
       "      <th>3962</th>\n",
       "      <td>너 되게 귀여운거 놀리는거 나보다 작은 남자는 첨봤어.\\n그만해. 니들 알지? 재미...</td>\n",
       "      <td>기타 괴롭힘 대화</td>\n",
       "    </tr>\n",
       "    <tr>\n",
       "      <th>3963</th>\n",
       "      <td>너 되게 귀여운거 알지? 나보다 작은 남자는 첨봤어.\\n그만해. 니들 놀리는거 재미...</td>\n",
       "      <td>기타 괴롭힘 대화</td>\n",
       "    </tr>\n",
       "    <tr>\n",
       "      <th>3964</th>\n",
       "      <td>너 귀여운거 알지? 나보다 작은 남자는 첨봤어.\\n그만해. 니들 재미없어.\\n지영아...</td>\n",
       "      <td>기타 괴롭힘 대화</td>\n",
       "    </tr>\n",
       "    <tr>\n",
       "      <th>3966</th>\n",
       "      <td>너 되게 귀여운거 알지? 나보다 작은 남자는 첨봤어.\\n그만해. 니들 놀리는거 재미...</td>\n",
       "      <td>기타 괴롭힘 대화</td>\n",
       "    </tr>\n",
       "    <tr>\n",
       "      <th>3968</th>\n",
       "      <td>어이 거기\\n예??\\n너 말이야 너. 이리 오라고\\n무슨 일.\\n너 옷 좋아보인다?...</td>\n",
       "      <td>갈취 대화</td>\n",
       "    </tr>\n",
       "    <tr>\n",
       "      <th>3969</th>\n",
       "      <td>어이 거기\\n예??\\n너 말이야 너. 이리 오라고\\n무슨 일.\\n너 피 좋아보인다?...</td>\n",
       "      <td>갈취 대화</td>\n",
       "    </tr>\n",
       "    <tr>\n",
       "      <th>3970</th>\n",
       "      <td>어이 거기\\n예??\\n너 말이야 너. 이리 오라고\\n무슨 일.\\n너 양 좋아보인다?...</td>\n",
       "      <td>갈취 대화</td>\n",
       "    </tr>\n",
       "    <tr>\n",
       "      <th>3971</th>\n",
       "      <td>어이 거기\\n예??\\n너 나오면 너. 이리 오라고\\n무슨 일.\\n너 옷 없어요\\n뒤...</td>\n",
       "      <td>갈취 대화</td>\n",
       "    </tr>\n",
       "    <tr>\n",
       "      <th>3972</th>\n",
       "      <td>어이 거기\\n예??\\n너 말이야 너. 이리 오라고\\n무슨 옷 좋아보인다?\\n얘 돈 ...</td>\n",
       "      <td>갈취 대화</td>\n",
       "    </tr>\n",
       "    <tr>\n",
       "      <th>3974</th>\n",
       "      <td>저기요 혹시 날이 너무 뜨겁잖아요? 저희 회사에서 이 안 선크림 파는데 한 번 손등...</td>\n",
       "      <td>갈취 대화</td>\n",
       "    </tr>\n",
       "    <tr>\n",
       "      <th>3975</th>\n",
       "      <td>저기요 혹시 내 날이 너무 뜨겁잖아요? 내 저희 회사에서 이 선크림 파는데 한 번 ...</td>\n",
       "      <td>갈취 대화</td>\n",
       "    </tr>\n",
       "    <tr>\n",
       "      <th>3976</th>\n",
       "      <td>저기요 안내요?\\n네? 날이 너무 뜨겁잖아요? 저희 회사에서 이 선크림 하셨잖아요....</td>\n",
       "      <td>갈취 대화</td>\n",
       "    </tr>\n",
       "    <tr>\n",
       "      <th>3977</th>\n",
       "      <td>저기요 혹시 날이 뜨겁잖아요? 저희 회사에서 선크림 파는데 한 번 발라보실래요?\\n...</td>\n",
       "      <td>갈취 대화</td>\n",
       "    </tr>\n",
       "    <tr>\n",
       "      <th>3978</th>\n",
       "      <td>저기요 혹시 날이 너무 뜨겁잖아요? 저희 회사에서 이 선크림 파는데 한 번 손등에 ...</td>\n",
       "      <td>갈취 대화</td>\n",
       "    </tr>\n",
       "  </tbody>\n",
       "</table>\n",
       "</div>"
      ],
      "text/plain": [
       "                                           conversation      class\n",
       "3950  지금 너 스스로를 죽여달라고 애원하는 못하겠습니다. 아닙니다. 죄송합니다.\\n 죽을...      협박 대화\n",
       "3951  지금 너 스스로를 진 죽여달라고 애원하는 것인가?\\n 아닙니다. 죄송합니다.\\n 진...      협박 대화\n",
       "3952  지금 너 스스로를 죽여달라고 애원하는 것인가?\\n 아닙니다. 죄송합니다.\\n 죽을 ...      협박 대화\n",
       "3953  너 스스로를 애원하는 것인가?\\n 아닙니다. 죄송합니다.\\n 거면 혼자 죽지 우리까...      협박 대화\n",
       "3954  지금 너 스스로를 죽여달라고 애원하는 것인가?\\n 아닙니다. 죄송합니다.\\n 죽을 ...      협박 대화\n",
       "3956  길동경찰서입니다.\\n9시 40분 한번만 다 설치할거다.\\n네?\\n똑바로 들어 마트에...      협박 대화\n",
       "3962  너 되게 귀여운거 놀리는거 나보다 작은 남자는 첨봤어.\\n그만해. 니들 알지? 재미...  기타 괴롭힘 대화\n",
       "3963  너 되게 귀여운거 알지? 나보다 작은 남자는 첨봤어.\\n그만해. 니들 놀리는거 재미...  기타 괴롭힘 대화\n",
       "3964  너 귀여운거 알지? 나보다 작은 남자는 첨봤어.\\n그만해. 니들 재미없어.\\n지영아...  기타 괴롭힘 대화\n",
       "3966  너 되게 귀여운거 알지? 나보다 작은 남자는 첨봤어.\\n그만해. 니들 놀리는거 재미...  기타 괴롭힘 대화\n",
       "3968  어이 거기\\n예??\\n너 말이야 너. 이리 오라고\\n무슨 일.\\n너 옷 좋아보인다?...      갈취 대화\n",
       "3969  어이 거기\\n예??\\n너 말이야 너. 이리 오라고\\n무슨 일.\\n너 피 좋아보인다?...      갈취 대화\n",
       "3970  어이 거기\\n예??\\n너 말이야 너. 이리 오라고\\n무슨 일.\\n너 양 좋아보인다?...      갈취 대화\n",
       "3971  어이 거기\\n예??\\n너 나오면 너. 이리 오라고\\n무슨 일.\\n너 옷 없어요\\n뒤...      갈취 대화\n",
       "3972  어이 거기\\n예??\\n너 말이야 너. 이리 오라고\\n무슨 옷 좋아보인다?\\n얘 돈 ...      갈취 대화\n",
       "3974  저기요 혹시 날이 너무 뜨겁잖아요? 저희 회사에서 이 안 선크림 파는데 한 번 손등...      갈취 대화\n",
       "3975  저기요 혹시 내 날이 너무 뜨겁잖아요? 내 저희 회사에서 이 선크림 파는데 한 번 ...      갈취 대화\n",
       "3976  저기요 안내요?\\n네? 날이 너무 뜨겁잖아요? 저희 회사에서 이 선크림 하셨잖아요....      갈취 대화\n",
       "3977  저기요 혹시 날이 뜨겁잖아요? 저희 회사에서 선크림 파는데 한 번 발라보실래요?\\n...      갈취 대화\n",
       "3978  저기요 혹시 날이 너무 뜨겁잖아요? 저희 회사에서 이 선크림 파는데 한 번 손등에 ...      갈취 대화"
      ]
     },
     "execution_count": 146,
     "metadata": {},
     "output_type": "execute_result"
    }
   ],
   "source": [
    "data[3846:3866]"
   ]
  },
  {
   "cell_type": "markdown",
   "id": "611e368a",
   "metadata": {},
   "source": [
    "### 2-2)레이블인코딩"
   ]
  },
  {
   "cell_type": "code",
   "execution_count": 147,
   "id": "db8ccaf8",
   "metadata": {
    "scrolled": false
   },
   "outputs": [
    {
     "data": {
      "text/html": [
       "<div>\n",
       "<style scoped>\n",
       "    .dataframe tbody tr th:only-of-type {\n",
       "        vertical-align: middle;\n",
       "    }\n",
       "\n",
       "    .dataframe tbody tr th {\n",
       "        vertical-align: top;\n",
       "    }\n",
       "\n",
       "    .dataframe thead th {\n",
       "        text-align: right;\n",
       "    }\n",
       "</style>\n",
       "<table border=\"1\" class=\"dataframe\">\n",
       "  <thead>\n",
       "    <tr style=\"text-align: right;\">\n",
       "      <th></th>\n",
       "      <th>conversation</th>\n",
       "      <th>class</th>\n",
       "    </tr>\n",
       "  </thead>\n",
       "  <tbody>\n",
       "    <tr>\n",
       "      <th>0</th>\n",
       "      <td>지금 너 스스로를 죽여달라고 애원하는 것인가?\\n 아닙니다. 죄송합니다.\\n 죽을 ...</td>\n",
       "      <td>3</td>\n",
       "    </tr>\n",
       "    <tr>\n",
       "      <th>1</th>\n",
       "      <td>길동경찰서입니다.\\n9시 40분 마트에 폭발물을 설치할거다.\\n네?\\n똑바로 들어 ...</td>\n",
       "      <td>3</td>\n",
       "    </tr>\n",
       "    <tr>\n",
       "      <th>2</th>\n",
       "      <td>너 되게 귀여운거 알지? 나보다 작은 남자는 첨봤어.\\n그만해. 니들 놀리는거 재미...</td>\n",
       "      <td>1</td>\n",
       "    </tr>\n",
       "    <tr>\n",
       "      <th>3</th>\n",
       "      <td>어이 거기\\n예??\\n너 말이야 너. 이리 오라고\\n무슨 일.\\n너 옷 좋아보인다?...</td>\n",
       "      <td>0</td>\n",
       "    </tr>\n",
       "    <tr>\n",
       "      <th>4</th>\n",
       "      <td>저기요 혹시 날이 너무 뜨겁잖아요? 저희 회사에서 이 선크림 파는데 한 번 손등에 ...</td>\n",
       "      <td>0</td>\n",
       "    </tr>\n",
       "  </tbody>\n",
       "</table>\n",
       "</div>"
      ],
      "text/plain": [
       "                                        conversation  class\n",
       "0  지금 너 스스로를 죽여달라고 애원하는 것인가?\\n 아닙니다. 죄송합니다.\\n 죽을 ...      3\n",
       "1  길동경찰서입니다.\\n9시 40분 마트에 폭발물을 설치할거다.\\n네?\\n똑바로 들어 ...      3\n",
       "2  너 되게 귀여운거 알지? 나보다 작은 남자는 첨봤어.\\n그만해. 니들 놀리는거 재미...      1\n",
       "3  어이 거기\\n예??\\n너 말이야 너. 이리 오라고\\n무슨 일.\\n너 옷 좋아보인다?...      0\n",
       "4  저기요 혹시 날이 너무 뜨겁잖아요? 저희 회사에서 이 선크림 파는데 한 번 손등에 ...      0"
      ]
     },
     "execution_count": 147,
     "metadata": {},
     "output_type": "execute_result"
    }
   ],
   "source": [
    "CLASS_NAMES = ['협박 대화', '갈취 대화', '직장 내 괴롭힘 대화', '기타 괴롭힘 대화']\n",
    "\n",
    "encoder = LabelEncoder()\n",
    "encoder.fit(CLASS_NAMES)\n",
    "\n",
    "data['class'] = encoder.transform(data['class'])\n",
    "\n",
    "corpus = data[\"conversation\"]\n",
    "data.head()\n",
    "\n"
   ]
  },
  {
   "cell_type": "code",
   "execution_count": 148,
   "id": "013ab084",
   "metadata": {},
   "outputs": [
    {
     "data": {
      "text/html": [
       "<div>\n",
       "<style scoped>\n",
       "    .dataframe tbody tr th:only-of-type {\n",
       "        vertical-align: middle;\n",
       "    }\n",
       "\n",
       "    .dataframe tbody tr th {\n",
       "        vertical-align: top;\n",
       "    }\n",
       "\n",
       "    .dataframe thead th {\n",
       "        text-align: right;\n",
       "    }\n",
       "</style>\n",
       "<table border=\"1\" class=\"dataframe\">\n",
       "  <thead>\n",
       "    <tr style=\"text-align: right;\">\n",
       "      <th></th>\n",
       "      <th>conversation</th>\n",
       "      <th>class</th>\n",
       "    </tr>\n",
       "  </thead>\n",
       "  <tbody>\n",
       "    <tr>\n",
       "      <th>0</th>\n",
       "      <td>지금 너 스스로를 죽여달라고 애원하는 것인가?\\n 아닙니다. 죄송합니다.\\n 죽을 ...</td>\n",
       "      <td>협박 대화</td>\n",
       "    </tr>\n",
       "    <tr>\n",
       "      <th>1</th>\n",
       "      <td>길동경찰서입니다.\\n9시 40분 마트에 폭발물을 설치할거다.\\n네?\\n똑바로 들어 ...</td>\n",
       "      <td>협박 대화</td>\n",
       "    </tr>\n",
       "    <tr>\n",
       "      <th>2</th>\n",
       "      <td>너 되게 귀여운거 알지? 나보다 작은 남자는 첨봤어.\\n그만해. 니들 놀리는거 재미...</td>\n",
       "      <td>기타 괴롭힘 대화</td>\n",
       "    </tr>\n",
       "    <tr>\n",
       "      <th>3</th>\n",
       "      <td>어이 거기\\n예??\\n너 말이야 너. 이리 오라고\\n무슨 일.\\n너 옷 좋아보인다?...</td>\n",
       "      <td>갈취 대화</td>\n",
       "    </tr>\n",
       "    <tr>\n",
       "      <th>4</th>\n",
       "      <td>저기요 혹시 날이 너무 뜨겁잖아요? 저희 회사에서 이 선크림 파는데 한 번 손등에 ...</td>\n",
       "      <td>갈취 대화</td>\n",
       "    </tr>\n",
       "  </tbody>\n",
       "</table>\n",
       "</div>"
      ],
      "text/plain": [
       "                                        conversation      class\n",
       "0  지금 너 스스로를 죽여달라고 애원하는 것인가?\\n 아닙니다. 죄송합니다.\\n 죽을 ...      협박 대화\n",
       "1  길동경찰서입니다.\\n9시 40분 마트에 폭발물을 설치할거다.\\n네?\\n똑바로 들어 ...      협박 대화\n",
       "2  너 되게 귀여운거 알지? 나보다 작은 남자는 첨봤어.\\n그만해. 니들 놀리는거 재미...  기타 괴롭힘 대화\n",
       "3  어이 거기\\n예??\\n너 말이야 너. 이리 오라고\\n무슨 일.\\n너 옷 좋아보인다?...      갈취 대화\n",
       "4  저기요 혹시 날이 너무 뜨겁잖아요? 저희 회사에서 이 선크림 파는데 한 번 손등에 ...      갈취 대화"
      ]
     },
     "execution_count": 148,
     "metadata": {},
     "output_type": "execute_result"
    }
   ],
   "source": [
    "data1.head()"
   ]
  },
  {
   "cell_type": "code",
   "execution_count": 149,
   "id": "3749f714",
   "metadata": {},
   "outputs": [],
   "source": [
    "encoder1 = LabelEncoder()\n",
    "encoder1.fit(CLASS_NAMES)\n",
    "data1['class'] = encoder1.transform(data1['class'])\n",
    "\n",
    "corpus1 = data1[\"conversation\"]"
   ]
  },
  {
   "cell_type": "markdown",
   "id": "95e296aa",
   "metadata": {},
   "source": [
    "### 2-3)토크나이저 및 단어사전 생성"
   ]
  },
  {
   "cell_type": "code",
   "execution_count": 150,
   "id": "350114c5",
   "metadata": {},
   "outputs": [
    {
     "name": "stdout",
     "output_type": "stream",
     "text": [
      "[[  1 204   1 ...   1  43   1]\n",
      " [  1   1   1 ...   1   1 410]\n",
      " [  1  96   1 ...   1 137   1]\n",
      " ...\n",
      " [310   1   1 ... 162 121   1]\n",
      " [  1   1   1 ... 162 121   1]\n",
      " [  1   1   1 ...   1 121   1]] <keras_preprocessing.text.Tokenizer object at 0x7ee81628d580>\n",
      "[[  1 210   1 ...   1  42   1]\n",
      " [  1   1   1 ...   1   1 401]\n",
      " [  1  97   1 ...   1 136   1]\n",
      " ...\n",
      " [495   3 110 ...  27   1   1]\n",
      " [  1   1 151 ... 348   1   1]\n",
      " [  1   1   1 ... 159 113   1]] <keras_preprocessing.text.Tokenizer object at 0x7ee875e7a790>\n"
     ]
    }
   ],
   "source": [
    "def tokenize(corpus):\n",
    "    #토크나이저 객체생성\n",
    "    tokenizer = tf.keras.preprocessing.text.Tokenizer(\n",
    "        num_words=1000, \n",
    "        filters=' ',\n",
    "        oov_token=\"<unk>\")\n",
    "    \n",
    "    tokenizer.fit_on_texts(corpus) #corpus 기준으로 단어 사전 생성\n",
    "    tensor = tokenizer.texts_to_sequences(corpus) #정수시퀀스\n",
    "    \n",
    "    #시퀀스패딩\n",
    "    tensor = tf.keras.preprocessing.sequence.pad_sequences(tensor, \n",
    "                                                           padding='post',\n",
    "                                                           maxlen=20) #최대길이\n",
    "    print(tensor,tokenizer)\n",
    "    return tensor, tokenizer\n",
    "\n",
    "#데이터셋에서 토큰화 및 패딩작업 결과를 저장\n",
    "tensor, tokenizer = tokenize(corpus)\n",
    "tensor1, tokenizer1 = tokenize(corpus1)"
   ]
  },
  {
   "cell_type": "code",
   "execution_count": 151,
   "id": "bc39519a",
   "metadata": {},
   "outputs": [
    {
     "data": {
      "text/plain": [
       "(21307, 2)"
      ]
     },
     "execution_count": 151,
     "metadata": {},
     "output_type": "execute_result"
    }
   ],
   "source": [
    "data.shape"
   ]
  },
  {
   "cell_type": "markdown",
   "id": "c65cf6f7",
   "metadata": {},
   "source": [
    "### 2-4)데이터 분할"
   ]
  },
  {
   "cell_type": "code",
   "execution_count": 152,
   "id": "502ef71c",
   "metadata": {},
   "outputs": [],
   "source": [
    "X_train = tensor[:17000]\n",
    "y_train = data['class'][:17000]\n",
    "X_val = tensor[17000:21307]\n",
    "y_val = data['class'][17000:21307]"
   ]
  },
  {
   "cell_type": "code",
   "execution_count": 153,
   "id": "c06b0215",
   "metadata": {},
   "outputs": [],
   "source": [
    "testx = tensor1\n",
    "testy = data1['class']"
   ]
  },
  {
   "cell_type": "markdown",
   "id": "3f37f23a",
   "metadata": {},
   "source": [
    "# 3. 모델생성 및 훈련\n",
    "\n",
    "- baseline 모델은 바닐라 RNN 모델로 설정\n",
    "- LSTM, GRU, 1D COV 등 모델 및 pretrained bert 등을 활용예정"
   ]
  },
  {
   "cell_type": "markdown",
   "id": "3e0da37b",
   "metadata": {},
   "source": [
    "## 3-1) 모델 구성"
   ]
  },
  {
   "cell_type": "code",
   "execution_count": 156,
   "id": "eab0136b",
   "metadata": {
    "scrolled": false
   },
   "outputs": [
    {
     "name": "stdout",
     "output_type": "stream",
     "text": [
      "Model: \"sequential_5\"\n",
      "_________________________________________________________________\n",
      "Layer (type)                 Output Shape              Param #   \n",
      "=================================================================\n",
      "embedding_5 (Embedding)      (None, None, 20)          20000     \n",
      "_________________________________________________________________\n",
      "conv1d_1 (Conv1D)            (None, None, 256)         15616     \n",
      "_________________________________________________________________\n",
      "global_max_pooling1d (Global (None, 256)               0         \n",
      "_________________________________________________________________\n",
      "dropout_3 (Dropout)          (None, 256)               0         \n",
      "_________________________________________________________________\n",
      "dense_6 (Dense)              (None, 64)                16448     \n",
      "_________________________________________________________________\n",
      "dense_7 (Dense)              (None, 4)                 260       \n",
      "=================================================================\n",
      "Total params: 52,324\n",
      "Trainable params: 52,324\n",
      "Non-trainable params: 0\n",
      "_________________________________________________________________\n"
     ]
    }
   ],
   "source": [
    "import tensorflow as tf\n",
    "from tensorflow.keras.models import Sequential\n",
    "from tensorflow.keras.layers import Embedding,SimpleRNN,Dropout, Dense,Conv1D,GlobalMaxPooling1D\n",
    "\n",
    "\n",
    "vocab_size = 1000  # 어휘 사전의 크기\n",
    "word_vector_dim = 20  # 단어 하나를 표현하는 임베딩 벡터의 차원수\n",
    "\n",
    "\n",
    "model = Sequential()\n",
    "model.add(Embedding(vocab_size, word_vector_dim, input_length=None))\n",
    "model.add(Conv1D(256, 3, activation='relu')) \n",
    "model.add(GlobalMaxPooling1D())\n",
    "model.add(Dropout(0.2))\n",
    "model.add(Dense(64, activation='relu'))\n",
    "model.add(Dense(4, activation='softmax'))  \n",
    "\n",
    "model.summary()"
   ]
  },
  {
   "cell_type": "code",
   "execution_count": 157,
   "id": "fa70ca82",
   "metadata": {},
   "outputs": [],
   "source": [
    "from sklearn.metrics import f1_score, precision_score, recall_score"
   ]
  },
  {
   "cell_type": "code",
   "execution_count": 158,
   "id": "f3f97be1",
   "metadata": {},
   "outputs": [],
   "source": [
    "#모델 compile\n",
    "model.compile(optimizer='adam',\n",
    "              loss='sparse_categorical_crossentropy',\n",
    "              metrics=['accuracy'])"
   ]
  },
  {
   "cell_type": "code",
   "execution_count": 159,
   "id": "ef9d6879",
   "metadata": {},
   "outputs": [],
   "source": [
    "#콜백함수\n",
    "from tensorflow.keras.callbacks import EarlyStopping\n",
    "\n",
    "early_stopping = EarlyStopping(\n",
    "    monitor='val_loss',  # 검증 손실을 기준으로 조기 종료 여부 판단\n",
    "    patience=10,         # 검증 손실이 개선되지 않는 epoch를 5회까지 허용\n",
    "    restore_best_weights=True  # 가장 좋은 검증 손실을 낸 모델의 가중치 복원\n",
    ")"
   ]
  },
  {
   "cell_type": "markdown",
   "id": "5e8b4640",
   "metadata": {},
   "source": [
    "## 3-2) 모델 학습"
   ]
  },
  {
   "cell_type": "code",
   "execution_count": 160,
   "id": "ad928b6c",
   "metadata": {
    "scrolled": true
   },
   "outputs": [
    {
     "name": "stdout",
     "output_type": "stream",
     "text": [
      "Epoch 1/100\n",
      "532/532 [==============================] - 31s 5ms/step - loss: 0.9584 - accuracy: 0.5946 - val_loss: 0.8795 - val_accuracy: 0.6582\n",
      "Epoch 2/100\n",
      "532/532 [==============================] - 2s 4ms/step - loss: 0.4956 - accuracy: 0.8192 - val_loss: 0.8908 - val_accuracy: 0.6840\n",
      "Epoch 3/100\n",
      "532/532 [==============================] - 2s 4ms/step - loss: 0.3584 - accuracy: 0.8742 - val_loss: 0.8454 - val_accuracy: 0.7147\n",
      "Epoch 4/100\n",
      "532/532 [==============================] - 2s 4ms/step - loss: 0.2745 - accuracy: 0.9091 - val_loss: 0.8159 - val_accuracy: 0.7420\n",
      "Epoch 5/100\n",
      "532/532 [==============================] - 2s 4ms/step - loss: 0.2188 - accuracy: 0.9276 - val_loss: 0.7657 - val_accuracy: 0.7643\n",
      "Epoch 6/100\n",
      "532/532 [==============================] - 2s 4ms/step - loss: 0.1752 - accuracy: 0.9438 - val_loss: 0.6674 - val_accuracy: 0.7959\n",
      "Epoch 7/100\n",
      "532/532 [==============================] - 2s 4ms/step - loss: 0.1416 - accuracy: 0.9539 - val_loss: 0.6720 - val_accuracy: 0.8161\n",
      "Epoch 8/100\n",
      "532/532 [==============================] - 2s 4ms/step - loss: 0.1193 - accuracy: 0.9611 - val_loss: 0.6411 - val_accuracy: 0.8219\n",
      "Epoch 9/100\n",
      "532/532 [==============================] - 2s 4ms/step - loss: 0.1056 - accuracy: 0.9649 - val_loss: 0.6163 - val_accuracy: 0.8372\n",
      "Epoch 10/100\n",
      "532/532 [==============================] - 2s 4ms/step - loss: 0.0901 - accuracy: 0.9703 - val_loss: 0.6331 - val_accuracy: 0.8442\n",
      "Epoch 11/100\n",
      "532/532 [==============================] - 2s 4ms/step - loss: 0.0796 - accuracy: 0.9735 - val_loss: 0.6382 - val_accuracy: 0.8491\n",
      "Epoch 12/100\n",
      "532/532 [==============================] - 2s 4ms/step - loss: 0.0709 - accuracy: 0.9768 - val_loss: 0.6433 - val_accuracy: 0.8586\n",
      "Epoch 13/100\n",
      "532/532 [==============================] - 2s 4ms/step - loss: 0.0612 - accuracy: 0.9801 - val_loss: 0.6701 - val_accuracy: 0.8584\n",
      "Epoch 14/100\n",
      "532/532 [==============================] - 2s 4ms/step - loss: 0.0584 - accuracy: 0.9805 - val_loss: 0.6421 - val_accuracy: 0.8639\n",
      "Epoch 15/100\n",
      "532/532 [==============================] - 2s 4ms/step - loss: 0.0558 - accuracy: 0.9804 - val_loss: 0.6683 - val_accuracy: 0.8646\n",
      "Epoch 16/100\n",
      "532/532 [==============================] - 2s 4ms/step - loss: 0.0529 - accuracy: 0.9825 - val_loss: 0.6761 - val_accuracy: 0.8591\n",
      "Epoch 17/100\n",
      "532/532 [==============================] - 2s 4ms/step - loss: 0.0457 - accuracy: 0.9842 - val_loss: 0.6995 - val_accuracy: 0.8684\n",
      "Epoch 18/100\n",
      "532/532 [==============================] - 2s 4ms/step - loss: 0.0467 - accuracy: 0.9846 - val_loss: 0.7234 - val_accuracy: 0.8677\n",
      "Epoch 19/100\n",
      "532/532 [==============================] - 2s 4ms/step - loss: 0.0507 - accuracy: 0.9825 - val_loss: 0.7420 - val_accuracy: 0.8667\n"
     ]
    }
   ],
   "source": [
    "history = model.fit(X_train, y_train, epochs=100, validation_data=(X_val, y_val), callbacks=[early_stopping])"
   ]
  },
  {
   "cell_type": "markdown",
   "id": "76db413e",
   "metadata": {},
   "source": [
    "## 3-3) 학습과정 시각화"
   ]
  },
  {
   "cell_type": "code",
   "execution_count": 161,
   "id": "de2bae31",
   "metadata": {},
   "outputs": [
    {
     "data": {
      "image/png": "[encoded data removed]",
      "text/plain": [
       "<Figure size 432x288 with 1 Axes>"
      ]
     },
     "metadata": {
      "needs_background": "light"
     },
     "output_type": "display_data"
    }
   ],
   "source": [
    "import matplotlib.pyplot as plt\n",
    "\n",
    "acc = history.history['accuracy']\n",
    "val_acc = history.history['val_accuracy']\n",
    "loss = history.history['loss']\n",
    "val_loss = history.history['val_loss']\n",
    "epochs = range(1, len(acc) + 1)\n",
    "\n",
    "# \"bo\"는 \"파란색 점\"입니다\n",
    "plt.plot(epochs, loss, 'bo', label='Training loss')\n",
    "# b는 \"파란 실선\"입니다\n",
    "plt.plot(epochs, val_loss, 'b', label='Validation loss')\n",
    "plt.title('Training and validation loss')\n",
    "plt.xlabel('Epochs')\n",
    "plt.ylabel('Loss')\n",
    "plt.legend()\n",
    "\n",
    "plt.show()"
   ]
  },
  {
   "cell_type": "code",
   "execution_count": 162,
   "id": "9d4365d5",
   "metadata": {
    "scrolled": false
   },
   "outputs": [
    {
     "data": {
      "image/png": "[encoded data removed]",
      "text/plain": [
       "<Figure size 432x288 with 1 Axes>"
      ]
     },
     "metadata": {
      "needs_background": "light"
     },
     "output_type": "display_data"
    }
   ],
   "source": [
    "plt.plot(epochs, acc, 'bo', label='Training acc')\n",
    "plt.plot(epochs, val_acc, 'b', label='Validation acc')\n",
    "plt.title('Training and validation accuracy')\n",
    "plt.xlabel('Epochs')\n",
    "plt.ylabel('Accuracy')\n",
    "plt.legend()\n",
    "\n",
    "plt.show()"
   ]
  },
  {
   "cell_type": "markdown",
   "id": "22f1f5e2",
   "metadata": {},
   "source": [
    "## 3-4) 성능 확인"
   ]
  },
  {
   "cell_type": "code",
   "execution_count": 163,
   "id": "b554dd36",
   "metadata": {},
   "outputs": [
    {
     "name": "stdout",
     "output_type": "stream",
     "text": [
      "121/121 - 0s - loss: 5.9561 - accuracy: 0.2891\n"
     ]
    }
   ],
   "source": [
    "results = model.evaluate(testx,testy, verbose=2)"
   ]
  },
  {
   "cell_type": "code",
   "execution_count": 164,
   "id": "fb640e62",
   "metadata": {},
   "outputs": [],
   "source": [
    "loss = results[0]\n",
    "accuracy = results[1] "
   ]
  },
  {
   "cell_type": "code",
   "execution_count": 165,
   "id": "64abced4",
   "metadata": {},
   "outputs": [],
   "source": [
    "# 예측\n",
    "y_pred = model.predict(testx)\n",
    "y_pred_classes = y_pred.argmax(axis=-1)  # 예측 확률 값을 클래스 레이블로 변환"
   ]
  },
  {
   "cell_type": "code",
   "execution_count": 166,
   "id": "81987d71",
   "metadata": {
    "scrolled": true
   },
   "outputs": [
    {
     "name": "stdout",
     "output_type": "stream",
     "text": [
      "[3 3 1 ... 3 2 1]\n"
     ]
    }
   ],
   "source": [
    "print(y_pred_classes)"
   ]
  },
  {
   "cell_type": "code",
   "execution_count": 167,
   "id": "81a8d53a",
   "metadata": {
    "scrolled": false
   },
   "outputs": [
    {
     "name": "stdout",
     "output_type": "stream",
     "text": [
      "              precision    recall  f1-score   support\n",
      "\n",
      "           0       0.27      0.25      0.26       973\n",
      "           1       0.32      0.30      0.31      1011\n",
      "           2       0.31      0.36      0.33       970\n",
      "           3       0.25      0.24      0.25       892\n",
      "\n",
      "    accuracy                           0.29      3846\n",
      "   macro avg       0.29      0.29      0.29      3846\n",
      "weighted avg       0.29      0.29      0.29      3846\n",
      "\n"
     ]
    }
   ],
   "source": [
    "from sklearn.metrics import classification_report\n",
    "\n",
    "report_dict = classification_report(testy, y_pred_classes)\n",
    "\n",
    "print(report_dict)\n"
   ]
  },
  {
   "cell_type": "code",
   "execution_count": 168,
   "id": "9b5a8f05",
   "metadata": {},
   "outputs": [
    {
     "name": "stdout",
     "output_type": "stream",
     "text": [
      "              precision    recall  f1-score   support\n",
      "\n",
      "           0       0.27      0.25      0.26       973\n",
      "           1       0.32      0.30      0.31      1011\n",
      "           2       0.31      0.36      0.33       970\n",
      "           3       0.25      0.24      0.25       892\n",
      "\n",
      "    accuracy                           0.29      3846\n",
      "   macro avg       0.29      0.29      0.29      3846\n",
      "weighted avg       0.29      0.29      0.29      3846\n",
      "\n"
     ]
    }
   ],
   "source": [
    "print(report_dict)"
   ]
  },
  {
   "cell_type": "code",
   "execution_count": 169,
   "id": "53743578",
   "metadata": {},
   "outputs": [
    {
     "name": "stdout",
     "output_type": "stream",
     "text": [
      "weighted avg precision : 0.2881556431746872\n",
      "weighted avg recall : 0.2891315652626105\n",
      "weighted avg f1-score : 0.28813872670324575\n"
     ]
    }
   ],
   "source": [
    "report_dict = classification_report(testy, y_pred_classes, output_dict=True)\n",
    "\n",
    "# 필요한 값 추출 및 출력\n",
    "precision = report_dict['weighted avg']['precision']\n",
    "recall = report_dict['weighted avg']['recall']\n",
    "f1 = report_dict['weighted avg']['f1-score']\n",
    "\n",
    "print(\"weighted avg precision :\", precision)\n",
    "print(\"weighted avg recall :\", recall)\n",
    "print(\"weighted avg f1-score :\", f1)"
   ]
  },
  {
   "cell_type": "code",
   "execution_count": 170,
   "id": "dc3c6a3b",
   "metadata": {},
   "outputs": [],
   "source": [
    "df = pd.DataFrame(report_dict)"
   ]
  },
  {
   "cell_type": "code",
   "execution_count": 171,
   "id": "852021d9",
   "metadata": {},
   "outputs": [
    {
     "data": {
      "text/html": [
       "<div>\n",
       "<style scoped>\n",
       "    .dataframe tbody tr th:only-of-type {\n",
       "        vertical-align: middle;\n",
       "    }\n",
       "\n",
       "    .dataframe tbody tr th {\n",
       "        vertical-align: top;\n",
       "    }\n",
       "\n",
       "    .dataframe thead th {\n",
       "        text-align: right;\n",
       "    }\n",
       "</style>\n",
       "<table border=\"1\" class=\"dataframe\">\n",
       "  <thead>\n",
       "    <tr style=\"text-align: right;\">\n",
       "      <th></th>\n",
       "      <th>0</th>\n",
       "      <th>1</th>\n",
       "      <th>2</th>\n",
       "      <th>3</th>\n",
       "      <th>accuracy</th>\n",
       "      <th>macro avg</th>\n",
       "      <th>weighted avg</th>\n",
       "    </tr>\n",
       "  </thead>\n",
       "  <tbody>\n",
       "    <tr>\n",
       "      <th>precision</th>\n",
       "      <td>0.270179</td>\n",
       "      <td>0.317805</td>\n",
       "      <td>0.314260</td>\n",
       "      <td>0.245772</td>\n",
       "      <td>0.289132</td>\n",
       "      <td>0.287004</td>\n",
       "      <td>0.288156</td>\n",
       "    </tr>\n",
       "    <tr>\n",
       "      <th>recall</th>\n",
       "      <td>0.247688</td>\n",
       "      <td>0.303660</td>\n",
       "      <td>0.356701</td>\n",
       "      <td>0.244395</td>\n",
       "      <td>0.289132</td>\n",
       "      <td>0.288111</td>\n",
       "      <td>0.289132</td>\n",
       "    </tr>\n",
       "    <tr>\n",
       "      <th>f1-score</th>\n",
       "      <td>0.258445</td>\n",
       "      <td>0.310572</td>\n",
       "      <td>0.334138</td>\n",
       "      <td>0.245082</td>\n",
       "      <td>0.289132</td>\n",
       "      <td>0.287059</td>\n",
       "      <td>0.288139</td>\n",
       "    </tr>\n",
       "    <tr>\n",
       "      <th>support</th>\n",
       "      <td>973.000000</td>\n",
       "      <td>1011.000000</td>\n",
       "      <td>970.000000</td>\n",
       "      <td>892.000000</td>\n",
       "      <td>0.289132</td>\n",
       "      <td>3846.000000</td>\n",
       "      <td>3846.000000</td>\n",
       "    </tr>\n",
       "  </tbody>\n",
       "</table>\n",
       "</div>"
      ],
      "text/plain": [
       "                    0            1           2           3  accuracy  \\\n",
       "precision    0.270179     0.317805    0.314260    0.245772  0.289132   \n",
       "recall       0.247688     0.303660    0.356701    0.244395  0.289132   \n",
       "f1-score     0.258445     0.310572    0.334138    0.245082  0.289132   \n",
       "support    973.000000  1011.000000  970.000000  892.000000  0.289132   \n",
       "\n",
       "             macro avg  weighted avg  \n",
       "precision     0.287004      0.288156  \n",
       "recall        0.288111      0.289132  \n",
       "f1-score      0.287059      0.288139  \n",
       "support    3846.000000   3846.000000  "
      ]
     },
     "execution_count": 171,
     "metadata": {},
     "output_type": "execute_result"
    }
   ],
   "source": [
    "df"
   ]
  }
 ],
 "metadata": {
  "kernelspec": {
   "display_name": "Python 3 (ipykernel)",
   "language": "python",
   "name": "python3"
  },
  "language_info": {
   "codemirror_mode": {
    "name": "ipython",
    "version": 3
   },
   "file_extension": ".py",
   "mimetype": "text/x-python",
   "name": "python",
   "nbconvert_exporter": "python",
   "pygments_lexer": "ipython3",
   "version": "3.9.7"
  }
 },
 "nbformat": 4,
 "nbformat_minor": 5
}
